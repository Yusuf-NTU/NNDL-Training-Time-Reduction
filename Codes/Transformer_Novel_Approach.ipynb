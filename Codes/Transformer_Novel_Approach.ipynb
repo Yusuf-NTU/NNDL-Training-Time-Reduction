{
 "cells": [
  {
   "cell_type": "code",
   "execution_count": 1,
   "metadata": {
    "id": "5asnEhGny0YY"
   },
   "outputs": [],
   "source": [
    "import time\n",
    "import datetime\n",
    "import random\n",
    "import gc\n",
    "\n",
    "import pandas as pd\n",
    "import numpy as np\n",
    "\n",
    "import matplotlib.pyplot as plt\n",
    "import seaborn as sns\n",
    "import matplotlib as mpl\n",
    "\n",
    "from transformers import BertTokenizer, DistilBertTokenizer\n",
    "from transformers import AutoConfig\n",
    "from transformers import AutoModelForSequenceClassification\n",
    "from transformers import AdamW\n",
    "from transformers import get_linear_schedule_with_warmup\n",
    "\n",
    "import torch"
   ]
  },
  {
   "cell_type": "markdown",
   "metadata": {
    "id": "7SNr9aDwy0Yb"
   },
   "source": [
    "## Helper functions"
   ]
  },
  {
   "cell_type": "code",
   "execution_count": 2,
   "metadata": {
    "id": "Gc8T__Zxy0Yc"
   },
   "outputs": [],
   "source": [
    "def updating_interval(total_iterations, number_of_desired_updates):\n",
    "    '''\n",
    "    This function will try to pick an intelligent progress update interval \n",
    "    based on the magnitude of the total iterations.\n",
    "\n",
    "    Parameters:\n",
    "      `total_iters` - The number of iterations in the for-loop.\n",
    "      `num_desired_updates` - How many times we want to see an update over the \n",
    "                              course of the for-loop.\n",
    "    '''\n",
    "    \n",
    "    # Divide the total iterations by the desired number of updates.\n",
    "    exact_interval = total_iterations / number_of_desired_updates\n",
    "\n",
    "    # The `round` function has the ability to round down a number to, e.g., the\n",
    "    # nearest thousandth: round(exact_interval, -3)\n",
    "    #\n",
    "    # To determine the magnitude to round to, find the magnitude of the total,\n",
    "    # and then go one magnitude below that.\n",
    "\n",
    "    # Get the order of magnitude of the total.\n",
    "    order_of_magntiude = len(str(total_iterations)) - 1\n",
    "\n",
    "    # Our update interval should be rounded to an order of magnitude smaller. \n",
    "    round_magnitude = order_of_magntiude - 1\n",
    "\n",
    "    # Round down and cast to an int.\n",
    "    update_interval = int(round(exact_interval, -round_magnitude))\n",
    "\n",
    "    # Don't allow the interval to be zero!\n",
    "    if update_interval == 0:\n",
    "        update_interval = 1\n",
    "\n",
    "    return update_interval"
   ]
  },
  {
   "cell_type": "code",
   "execution_count": 3,
   "metadata": {
    "id": "9FWgeWsgy0Yd"
   },
   "outputs": [],
   "source": [
    "def show_time(elapsed_time):\n",
    "    '''\n",
    "    Takes a time in seconds and returns a string hh:mm:ss\n",
    "    '''\n",
    "    # Round to the nearest second.\n",
    "    elapsed_time_rounded = int(round((elapsed_time)))\n",
    "    \n",
    "    # Format as hh:mm:ss\n",
    "    return str(datetime.timedelta(seconds=elapsed_time_rounded))"
   ]
  },
  {
   "cell_type": "code",
   "execution_count": 12,
   "metadata": {
    "id": "ASaOA-Wfy0Yd"
   },
   "outputs": [],
   "source": [
    "def extract_data(data):\n",
    "    '''\n",
    "    Extract text and labels in a list\n",
    "    '''\n",
    "    \n",
    "    text = []\n",
    "    labels=[]\n",
    "    \n",
    "    # Iterate over the data\n",
    "    for idx, row in data.iterrows():\n",
    "        # The text is a `bytes` object, decode to string.\n",
    "        text.append(row['clean_text'])\n",
    "\n",
    "        # Cast the label from `np.int64` to `int`\n",
    "        labels.append(int(row['labels']))\n",
    "        \n",
    "    return text, labels"
   ]
  },
  {
   "cell_type": "markdown",
   "metadata": {
    "id": "N4isqbAsy0Ye"
   },
   "source": [
    "## Import data"
   ]
  },
  {
   "cell_type": "code",
   "execution_count": 5,
   "metadata": {
    "colab": {
     "base_uri": "https://localhost:8080/"
    },
    "id": "zKZhDLfny4ZY",
    "outputId": "3a8fb87e-b84f-45b3-ad9a-0bae9f6812de"
   },
   "outputs": [
    {
     "name": "stdout",
     "output_type": "stream",
     "text": [
      "Drive already mounted at /content/drive; to attempt to forcibly remount, call drive.mount(\"/content/drive\", force_remount=True).\n"
     ]
    }
   ],
   "source": [
    "from google.colab import drive\n",
    "drive.mount('/content/drive')"
   ]
  },
  {
   "cell_type": "code",
   "execution_count": 10,
   "metadata": {
    "id": "0I2gUscSy0Ye"
   },
   "outputs": [],
   "source": [
    "train_data = pd.read_csv('/content/drive/MyDrive/NNDL_Datasets/IMDB_train.csv')\n",
    "test_data = pd.read_csv('/content/drive/MyDrive/NNDL_Datasets/IMDB_test.csv')\n",
    "val_data = pd.read_csv('/content/drive/MyDrive/NNDL_Datasets/IMDB_val.csv')"
   ]
  },
  {
   "cell_type": "code",
   "execution_count": 7,
   "metadata": {
    "id": "f8F4wzgUy0Yf"
   },
   "outputs": [],
   "source": [
    "# For YELP data\n",
    "#train_data = pd.read_csv('/content/drive/MyDrive/NNDL_Datasets/YELP_train.csv')\n",
    "#test_data = pd.read_csv('/content/drive/MyDrive/NNDL_Datasets/YELP_test.csv')\n",
    "#val_data = pd.read_csv('/content/drive/MyDrive/NNDL_Datasets/YELP_val.csv')\n",
    "#train_data['labels'] = train_data['labels']-1\n",
    "#test_data['labels'] = test_data['labels']-1\n",
    "#val_data['labels'] = val_data['labels']-1"
   ]
  },
  {
   "cell_type": "markdown",
   "metadata": {
    "id": "VvW8-PDqy0Yg"
   },
   "source": [
    "## Extract data and see the shape and labels"
   ]
  },
  {
   "cell_type": "code",
   "execution_count": 11,
   "metadata": {
    "colab": {
     "base_uri": "https://localhost:8080/"
    },
    "id": "p7AyLxMky0Yg",
    "outputId": "aa84b116-7e47-4f9d-f2e2-0a1e28d7cccb"
   },
   "outputs": [
    {
     "name": "stdout",
     "output_type": "stream",
     "text": [
      "35,000 Training Samples\n",
      "7,500 Test Samples\n",
      "7,500 Validation Samples\n",
      "Labels: [0 1]\n"
     ]
    }
   ],
   "source": [
    "train_text, train_labels = extract_data(train_data)\n",
    "test_text, test_labels = extract_data(test_data)\n",
    "val_text, val_labels = extract_data(val_data)\n",
    "\n",
    "# Print some stats.\n",
    "print('{:,} Training Samples'.format(len(train_labels)))\n",
    "print('{:,} Test Samples'.format(len(test_labels)))\n",
    "print('{:,} Validation Samples'.format(len(val_labels)))\n",
    "print('Labels:', np.unique(train_labels))"
   ]
  },
  {
   "cell_type": "markdown",
   "metadata": {
    "id": "RjqUrP_Sy0Yg"
   },
   "source": [
    "## See few examples of review and label"
   ]
  },
  {
   "cell_type": "code",
   "execution_count": 13,
   "metadata": {
    "colab": {
     "base_uri": "https://localhost:8080/"
    },
    "id": "rhuUg4fZy0Yh",
    "outputId": "410c5131-5816-40e0-d0da-1914bf6a012d"
   },
   "outputs": [
    {
     "name": "stdout",
     "output_type": "stream",
     "text": [
      "Review: john garfield plays marine blinded grenade fighting guadalcanal learn live disability stereotypical notions blindness sure hell burden everyone hospital staff fellow wounded marines cant get neither girl back home played eleanor parker hes stubborn blinded fears self pity prejudices complex role garfield carries memorably great performance keeps one watching spite ever present syrupy melodrama best scenes guadalcanal hes machine gun nest trying fend advancing japanese soldiers hellish looking night time battle later dream sequence hospital sees walking train platform white cane dark glasses holding tin cup girlfriend walks backward away camera\n",
      "Label: 1\n",
      "-----------------\n",
      "Review: saw anatomy years ago dubbed friends house dont remember much saw video store second one really related first one franka ponte makes little cameo one okay good first one im seeing first one tonight dubbed collectors edition really like german movies like one interesting people cults like one movie could exist think dunno grossly entertaining scary anatomy 2 little different characters good first really thought anatomy interesting good see second one\n",
      "Label: 1\n",
      "-----------------\n",
      "Review: smallville episode justice best episode smallville favorite episode smallville\n",
      "Label: 1\n",
      "-----------------\n"
     ]
    }
   ],
   "source": [
    "for i,j in zip(train_text[:3], train_labels[:3]):\n",
    "    print('Review:', i)\n",
    "    print('Label:', j)\n",
    "    print('-----------------')"
   ]
  },
  {
   "cell_type": "markdown",
   "metadata": {
    "id": "g3wMqOFGy0Yh"
   },
   "source": [
    "## Check class distrubution"
   ]
  },
  {
   "cell_type": "code",
   "execution_count": 14,
   "metadata": {
    "colab": {
     "base_uri": "https://localhost:8080/",
     "height": 698
    },
    "id": "zM9oiIGTy0Yh",
    "outputId": "00be45da-ef08-4591-c35e-cabb15cefba5"
   },
   "outputs": [
    {
     "name": "stderr",
     "output_type": "stream",
     "text": [
      "/usr/local/lib/python3.7/dist-packages/seaborn/_decorators.py:43: FutureWarning: Pass the following variable as a keyword arg: x. From version 0.12, the only valid positional argument will be `data`, and passing other arguments without an explicit keyword will result in an error or misinterpretation.\n",
      "  FutureWarning\n"
     ]
    },
    {
     "data": {
      "image/png": "[encoded data removed]",
      "text/plain": [
       "<Figure size 1080x720 with 1 Axes>"
      ]
     },
     "metadata": {},
     "output_type": "display_data"
    }
   ],
   "source": [
    "sns.set(style='darkgrid')\n",
    "\n",
    "# Increase the plot size and font size.\n",
    "sns.set(font_scale=1.5)\n",
    "plt.rcParams[\"figure.figsize\"] = (15,10)\n",
    "\n",
    "# Plot the number of tokens of each length.\n",
    "ax = sns.countplot(train_labels)\n",
    "\n",
    "# Add labels\n",
    "plt.title('Class Distribution')\n",
    "plt.xlabel('Label')\n",
    "plt.ylabel('Number of Training Samples')\n",
    "\n",
    "# Add thousands separators to the y-axis labels.\n",
    "ax.yaxis.set_major_formatter(mpl.ticker.StrMethodFormatter('{x:,.0f}'))\n",
    "\n",
    "plt.show()"
   ]
  },
  {
   "cell_type": "markdown",
   "metadata": {
    "id": "XxHzCKn4y0Yi"
   },
   "source": [
    "# Smart Batching"
   ]
  },
  {
   "cell_type": "markdown",
   "metadata": {
    "id": "fodlj56Uy0Yi"
   },
   "source": [
    "## Load tokenizer"
   ]
  },
  {
   "cell_type": "code",
   "execution_count": 15,
   "metadata": {
    "colab": {
     "base_uri": "https://localhost:8080/"
    },
    "id": "EaLGUbpNy0Yi",
    "outputId": "92e650dd-f38e-46f5-8496-1d83a68efa1f"
   },
   "outputs": [
    {
     "name": "stdout",
     "output_type": "stream",
     "text": [
      "Loading tokenizer...\n"
     ]
    }
   ],
   "source": [
    "# Load the tokenizer.\n",
    "print('Loading tokenizer...')"
   ]
  },
  {
   "cell_type": "code",
   "execution_count": 16,
   "metadata": {
    "id": "XvXQvAr4y0Yi"
   },
   "outputs": [],
   "source": [
    "# For BERT model\n",
    "#tokenizer = BertTokenizer.from_pretrained('bert-base-uncased', do_lower_case=True)"
   ]
  },
  {
   "cell_type": "code",
   "execution_count": 17,
   "metadata": {
    "id": "FHYUGwD2y0Yi"
   },
   "outputs": [],
   "source": [
    "# For DistilBERT model\n",
    "tokenizer = DistilBertTokenizer.from_pretrained('distilbert-base-uncased', do_lower_case=True)"
   ]
  },
  {
   "cell_type": "markdown",
   "metadata": {
    "id": "BKRP5FIuy0Yj"
   },
   "source": [
    "## Tokenization without padding"
   ]
  },
  {
   "cell_type": "code",
   "execution_count": 18,
   "metadata": {
    "colab": {
     "base_uri": "https://localhost:8080/"
    },
    "id": "GTY4Es_Dy0Yj",
    "outputId": "446881ff-be1c-41be-8195-637c0a9d2521"
   },
   "outputs": [
    {
     "name": "stdout",
     "output_type": "stream",
     "text": [
      "Tokenizing 35,000 training samples\n",
      "--- Tokenized 0 samples.\n",
      "--- Tokenized 4,000 samples.\n",
      "--- Tokenized 8,000 samples.\n",
      "--- Tokenized 12,000 samples.\n",
      "--- Tokenized 16,000 samples.\n",
      "--- Tokenized 20,000 samples.\n",
      "--- Tokenized 24,000 samples.\n",
      "--- Tokenized 28,000 samples.\n",
      "--- Tokenized 32,000 samples.\n",
      "DONE.\n"
     ]
    }
   ],
   "source": [
    "full_input_ids = []\n",
    "labels = []\n",
    "max_len= 400\n",
    "\n",
    "# Tokenize all training samples\n",
    "print('Tokenizing {:,} training samples'.format(len(train_text)))\n",
    "\n",
    "# Choose an interval on which to print progress updates.\n",
    "update_interval = updating_interval(total_iterations=len(train_text), number_of_desired_updates=10)\n",
    "\n",
    "# Report progress for each training sample\n",
    "for text in train_text:\n",
    "    if ((len(full_input_ids) % update_interval) == 0):\n",
    "        print('--- Tokenized {:,} samples.'.format(len(full_input_ids)))\n",
    "\n",
    "    # Tokenize the text.\n",
    "    input_ids = tokenizer.encode(text=text,               # Review text\n",
    "                                 add_special_tokens=True, # Add special tokens. \n",
    "                                 max_length=max_len,      # Do truncate to `max_len`\n",
    "                                 truncation=True,         # Do truncate\n",
    "                                 padding=False)           # No padding\n",
    "                                 \n",
    "    # Add the tokenized result to our list.\n",
    "    full_input_ids.append(input_ids)\n",
    "    \n",
    "print('DONE.')"
   ]
  },
  {
   "cell_type": "markdown",
   "metadata": {
    "id": "zmAQ1zDFy0Yj"
   },
   "source": [
    "## Sorting by length"
   ]
  },
  {
   "cell_type": "code",
   "execution_count": 19,
   "metadata": {
    "id": "KLb4Any5y0Yj"
   },
   "outputs": [],
   "source": [
    "# Get all of the lengths.\n",
    "not_sorted_lengths = [len(values) for values in full_input_ids]"
   ]
  },
  {
   "cell_type": "code",
   "execution_count": 20,
   "metadata": {
    "colab": {
     "base_uri": "https://localhost:8080/",
     "height": 644
    },
    "id": "6VQtN49ty0Yj",
    "outputId": "6b56e143-dc4c-4bde-8517-4434d8d631ef"
   },
   "outputs": [
    {
     "data": {
      "image/png": "[encoded data removed]",
      "text/plain": [
       "<Figure size 1080x720 with 1 Axes>"
      ]
     },
     "metadata": {},
     "output_type": "display_data"
    }
   ],
   "source": [
    "# Use plot styling from seaborn.\n",
    "sns.set(style='darkgrid')\n",
    "\n",
    "# Increase the plot size and font size.\n",
    "sns.set(font_scale=1.5)\n",
    "plt.rcParams[\"figure.figsize\"] = (15,10)\n",
    "\n",
    "plt.scatter(range(0, len(not_sorted_lengths)), \n",
    "            not_sorted_lengths, marker=\"|\")\n",
    "\n",
    "plt.xlabel('Sample Number')\n",
    "plt.ylabel('Sequence Length')\n",
    "plt.title('Samples BEFORE Sorting')\n",
    "\n",
    "plt.show()"
   ]
  },
  {
   "cell_type": "code",
   "execution_count": 21,
   "metadata": {
    "colab": {
     "base_uri": "https://localhost:8080/"
    },
    "id": "lzaoRhA2y0Yk",
    "outputId": "0a7704ac-0882-4d19-e255-956edd4aaf2e"
   },
   "outputs": [
    {
     "name": "stdout",
     "output_type": "stream",
     "text": [
      "Shortest sample: 5\n",
      "Longest sample: 400\n"
     ]
    }
   ],
   "source": [
    "# Sort the two lists together by the length of the input sequence.\n",
    "train_samples = sorted(zip(full_input_ids, train_labels), key=lambda x: len(x[0]))\n",
    "\n",
    "print('Shortest sample:', len(train_samples[0][0]))\n",
    "print('Longest sample:', len(train_samples[-1][0]))"
   ]
  },
  {
   "cell_type": "code",
   "execution_count": 22,
   "metadata": {
    "id": "gbucPy7Jy0Yk"
   },
   "outputs": [],
   "source": [
    "# Get the new list of lengths after sorting.\n",
    "sorted_lengths = [len(values[0]) for values in train_samples]"
   ]
  },
  {
   "cell_type": "code",
   "execution_count": 23,
   "metadata": {
    "colab": {
     "base_uri": "https://localhost:8080/",
     "height": 644
    },
    "id": "xhNNAqgfy0Yk",
    "outputId": "991dbbd7-5cef-4551-fc0f-1cf6e3cdde20"
   },
   "outputs": [
    {
     "data": {
      "image/png": "[encoded data removed]",
      "text/plain": [
       "<Figure size 1080x720 with 1 Axes>"
      ]
     },
     "metadata": {},
     "output_type": "display_data"
    }
   ],
   "source": [
    "# Use plot styling from seaborn.\n",
    "sns.set(style='darkgrid')\n",
    "\n",
    "# Increase the plot size and font size.\n",
    "sns.set(font_scale=1.5)\n",
    "plt.rcParams[\"figure.figsize\"] = (15,10)\n",
    "\n",
    "plt.plot(range(0, len(sorted_lengths)), \n",
    "         sorted_lengths)\n",
    "\n",
    "plt.xlabel('Sample Number')\n",
    "plt.ylabel('Sequence Length')\n",
    "plt.title('Samples AFTER Sorting')\n",
    "\n",
    "plt.show()"
   ]
  },
  {
   "cell_type": "markdown",
   "metadata": {
    "id": "W0zlE4TBy0Yl"
   },
   "source": [
    "## Random batch selection"
   ]
  },
  {
   "cell_type": "code",
   "execution_count": 24,
   "metadata": {
    "colab": {
     "base_uri": "https://localhost:8080/"
    },
    "id": "Io5kxWdmy0Yl",
    "outputId": "ade17258-1d33-4e4d-da86-1aefe926d537"
   },
   "outputs": [
    {
     "name": "stdout",
     "output_type": "stream",
     "text": [
      "Creating training batches of size 16\n",
      "--- Selected 0 batches.\n",
      "--- Selected 500 batches.\n",
      "--- Selected 1,000 batches.\n",
      "--- Selected 1,500 batches.\n",
      "--- Selected 2,000 batches.\n",
      "\n",
      "DONE.\n"
     ]
    }
   ],
   "source": [
    "batch_size = 16\n",
    "\n",
    "# List of batches\n",
    "batches_of_ordered_sentences = []\n",
    "batches_of_ordered_labels = []\n",
    "\n",
    "print('Creating training batches of size {:}'.format(batch_size))\n",
    "\n",
    "# Loop over all of the samples   \n",
    "while len(train_samples) > 0:\n",
    "\n",
    "    if ((len(batches_of_ordered_sentences) % 500) == 0):\n",
    "        print('--- Selected {:,} batches.'.format(len(batches_of_ordered_sentences)))\n",
    "\n",
    "    # `to_take` is our actual batch size. It will be `batch_size` until we get to the last batch, which may be smaller. \n",
    "    to_take = min(batch_size, len(train_samples))\n",
    "\n",
    "    # Pick a random index in the list of remaining samples to start our batch at.\n",
    "    select = random.randint(0, len(train_samples) - to_take)\n",
    "\n",
    "    # Select a contiguous batch of samples starting at `select`.\n",
    "    batch = train_samples[select:(select + to_take)]\n",
    "\n",
    "    # Each sample is a tuple--split them apart to create a separate list of sequences and a list of labels for this batch.\n",
    "    batches_of_ordered_sentences.append([value[0] for value in batch])\n",
    "    batches_of_ordered_labels.append([value[1] for value in batch])\n",
    "\n",
    "    # Remove these samples from the list.\n",
    "    del train_samples[select:select + to_take]\n",
    "\n",
    "print('\\nDONE.')"
   ]
  },
  {
   "cell_type": "markdown",
   "metadata": {
    "id": "YHZlsLaJy0Yl"
   },
   "source": [
    "## Add padding"
   ]
  },
  {
   "cell_type": "code",
   "execution_count": 25,
   "metadata": {
    "id": "NuAEIPrPy0Yl"
   },
   "outputs": [],
   "source": [
    "py_inputs = []\n",
    "py_attn_masks = []\n",
    "py_labels = []\n",
    "\n",
    "# For each batch\n",
    "for (batch_inputs, batch_labels) in zip(batches_of_ordered_sentences, batches_of_ordered_labels):\n",
    "\n",
    "    # New version of the batch, this time with padded sequences and now with attention masks defined.\n",
    "    batch_of_padded_inputs = []\n",
    "    batch_of_attn_masks = []\n",
    "    \n",
    "    # First, find the longest sample in the batch. Note that the sequences do currently include the special tokens!\n",
    "    max_size = max([len(sen) for sen in batch_inputs])\n",
    "\n",
    "    # For each input in this batch\n",
    "    for sen in batch_inputs:\n",
    "        \n",
    "        # The number of pad tokens we need to add\n",
    "        num_pads = max_size - len(sen)\n",
    "\n",
    "        # Add `num_pads` padding tokens to the end of the sequence.\n",
    "        padded_input = sen + [tokenizer.pad_token_id]*num_pads\n",
    "\n",
    "        # Define the attention mask--it's just a `1` for every real token and a `0` for every padding token.\n",
    "        attn_mask = [1] * len(sen) + [0] * num_pads\n",
    "\n",
    "        # Add the padded results to the batch.\n",
    "        batch_of_padded_inputs.append(padded_input)\n",
    "        batch_of_attn_masks.append(attn_mask)\n",
    "\n",
    "    # Our batch has been padded, so we need to save this updated batch. \n",
    "    # We also need the inputs to be PyTorch tensors, so we'll do that here.\n",
    "    py_inputs.append(torch.tensor(batch_of_padded_inputs))\n",
    "    py_attn_masks.append(torch.tensor(batch_of_attn_masks))\n",
    "    py_labels.append(torch.tensor(batch_labels))\n"
   ]
  },
  {
   "cell_type": "markdown",
   "metadata": {
    "id": "A_YKsTlrAnHc"
   },
   "source": [
    "## Function to wrap the whole novel approach"
   ]
  },
  {
   "cell_type": "code",
   "execution_count": 26,
   "metadata": {
    "id": "1qPeKvUzAuPo"
   },
   "outputs": [],
   "source": [
    "def make_smart_batches(text_samples, labels, batch_size):\n",
    "    '''\n",
    "    This function combines all of the required steps to prepare batches.\n",
    "    '''\n",
    "\n",
    "    print('Creating Smart Batches from {:,} examples with batch size {:,}\\n'.format(len(text_samples), batch_size))\n",
    "\n",
    "    # =========================\n",
    "    #   Tokenize & Truncate\n",
    "\n",
    "    full_input_ids = []\n",
    "\n",
    "    # Tokenize all  examples\n",
    "    print('Tokenizing {:,} samples'.format(len(labels)))\n",
    "\n",
    "    # Choose an interval on which to print progress updates.\n",
    "    update_interval = updating_interval(total_iterations=len(labels), number_of_desired_updates=10)\n",
    "\n",
    "    # For each example\n",
    "    for text in text_samples:\n",
    "        \n",
    "        if ((len(full_input_ids) % update_interval) == 0):\n",
    "            print('  Tokenized {:,} samples.'.format(len(full_input_ids)))\n",
    "\n",
    "        # Tokenize the sample.\n",
    "        input_ids = tokenizer.encode(text=text,              # Text to encode.\n",
    "                                    add_special_tokens=True, # Add specials.\n",
    "                                    max_length=max_len,      # Do Truncate\n",
    "                                    truncation=True,         # Do Truncate\n",
    "                                    padding=False)           # No padding.\n",
    "                                    \n",
    "        # Add the tokenized result to our list.\n",
    "        full_input_ids.append(input_ids)\n",
    "        \n",
    "    print('DONE.')\n",
    "    print('{:>10,} samples\\n'.format(len(full_input_ids)))\n",
    "\n",
    "    # =========================\n",
    "    #      Select Batches \n",
    "\n",
    "    # Sort the two lists together by the length of the input sequence.\n",
    "    samples = sorted(zip(full_input_ids, labels), key=lambda x: len(x[0]))\n",
    "\n",
    "    print('{:>10,} samples AFTER sorting\\n'.format(len(samples)))\n",
    "\n",
    "\n",
    "    # List of batches that we'll construct.\n",
    "    batches_of_ordered_sentences = []\n",
    "    batches_of_ordered_labels = []\n",
    "\n",
    "    print('Creating batches of size {:}'.format(batch_size))\n",
    "\n",
    "    # Choose an interval on which to print progress updates.\n",
    "    update_interval = updating_interval(total_iterations=len(samples), number_of_desired_updates=10)\n",
    "    \n",
    "    # Loop over all of the samples    \n",
    "    while len(samples) > 0:\n",
    "        \n",
    "        if ((len(batches_of_ordered_sentences) % update_interval) == 0 \\\n",
    "            and not len(batches_of_ordered_sentences) == 0):\n",
    "            print('  Selected {:,} batches.'.format(len(batches_of_ordered_sentences)))\n",
    "\n",
    "        # `to_take` is our actual batch size. It will be `batch_size` until we get to the last batch, which may be smaller. \n",
    "        to_take = min(batch_size, len(samples))\n",
    "\n",
    "        # Pick a random index in the list of remaining samples to start our batch at.\n",
    "        select = random.randint(0, len(samples) - to_take)\n",
    "\n",
    "        # Select a contiguous batch of samples starting at `select`.\n",
    "        batch = samples[select:(select + to_take)]\n",
    "\n",
    "\n",
    "        # Each sample is a tuple--split them apart to create a separate list of sequences and a list of labels for this batch.\n",
    "        batches_of_ordered_sentences.append([value[0] for value in batch])\n",
    "        batches_of_ordered_labels.append([value[1] for value in batch])\n",
    "\n",
    "        # Remove these samples from the list.\n",
    "        del samples[select:select + to_take]\n",
    "\n",
    "    print('DONE.')\n",
    "\n",
    "    # =========================\n",
    "    #        Add Padding  \n",
    "\n",
    "    print('Padding out sequences within each batch')\n",
    "\n",
    "    py_inputs = []\n",
    "    py_attn_masks = []\n",
    "    py_labels = []\n",
    "\n",
    "    # For each batch\n",
    "    for (batch_inputs, batch_labels) in zip(batches_of_ordered_sentences, batches_of_ordered_labels):\n",
    "\n",
    "        # New version of the batch, this time with padded sequences and now with attention masks defined.\n",
    "        batch_of_padded_inputs = []\n",
    "        batch_of_attn_masks = []\n",
    "        \n",
    "        # First, find the longest sample in the batch. Note that the sequences do currently include the special tokens!\n",
    "        max_size = max([len(sen) for sen in batch_inputs])\n",
    "\n",
    "        # For each input in this batch\n",
    "        for sen in batch_inputs:\n",
    "            \n",
    "            # The pad tokens we need to add\n",
    "            num_pads = max_size - len(sen)\n",
    "\n",
    "            # Add `num_pads` padding tokens to the end of the sequence.\n",
    "            padded_input = sen + [tokenizer.pad_token_id]*num_pads\n",
    "\n",
    "            # Define the attention mask--it's just a `1` for every real token and a `0` for every padding token.\n",
    "            attn_mask = [1] * len(sen) + [0] * num_pads\n",
    "\n",
    "            # Add the padded results to the batch.\n",
    "            batch_of_padded_inputs.append(padded_input)\n",
    "            batch_of_attn_masks.append(attn_mask)\n",
    "\n",
    "        # Our batch has been padded, so we need to save this updated batch. We also need the inputs to be PyTorch tensors, so we'll do that here.\n",
    "        py_inputs.append(torch.tensor(batch_of_padded_inputs))\n",
    "        py_attn_masks.append(torch.tensor(batch_of_attn_masks))\n",
    "        py_labels.append(torch.tensor(batch_labels))\n",
    "    \n",
    "    print('DONE.')\n",
    "\n",
    "    # Return the smart-batched dataset!\n",
    "    return (py_inputs, py_attn_masks, py_labels)"
   ]
  },
  {
   "cell_type": "markdown",
   "metadata": {
    "id": "rVs4WWxRy0Yl"
   },
   "source": [
    "## Calculate token difference in Old and Novel Approach"
   ]
  },
  {
   "cell_type": "code",
   "execution_count": 27,
   "metadata": {
    "colab": {
     "base_uri": "https://localhost:8080/"
    },
    "id": "ug0FsNzQy0Yl",
    "outputId": "0a7ecfd7-938c-4601-d39b-d5ca7cc06094"
   },
   "outputs": [
    {
     "name": "stdout",
     "output_type": "stream",
     "text": [
      "Total tokens:\n",
      "--- Fixed Padding: 14,000,000\n",
      "--- Smart Batching: 5,000,288  (64.3% less)\n"
     ]
    }
   ],
   "source": [
    "# Get the new list of lengths after sorting.\n",
    "padded_lengths = []\n",
    "\n",
    "# For each batch...\n",
    "for batch in py_inputs:\n",
    "    \n",
    "    # For each sample...\n",
    "    for value in batch:\n",
    "    \n",
    "        # Record its length.\n",
    "        padded_lengths.append(len(value))\n",
    "\n",
    "# Sum up the lengths to the get the total number of tokens after smart batching.\n",
    "smart_token_count = np.sum(padded_lengths)\n",
    "\n",
    "# To get the total number of tokens in the dataset using fixed padding, it's\n",
    "# as simple as the number of samples times our `max_len` parameter (that we\n",
    "# would pad everything to).\n",
    "fixed_token_count = len(train_text) * max_len\n",
    "\n",
    "# Calculate the percentage reduction.\n",
    "prcnt_reduced = (fixed_token_count - smart_token_count) / float(fixed_token_count) \n",
    "\n",
    "print('Total tokens:')\n",
    "print('--- Fixed Padding: {:,}'.format(fixed_token_count))\n",
    "print('--- Smart Batching: {:,}  ({:.1%} less)'.format(smart_token_count, prcnt_reduced))"
   ]
  },
  {
   "cell_type": "markdown",
   "metadata": {
    "id": "pmqICiSGy0Ym"
   },
   "source": [
    "# Fine-tune Model"
   ]
  },
  {
   "cell_type": "markdown",
   "metadata": {
    "id": "ycFtrzDey0Ym"
   },
   "source": [
    "## Load Configuration and Model"
   ]
  },
  {
   "cell_type": "code",
   "execution_count": 28,
   "metadata": {
    "id": "msu7B7Lcy0Ym"
   },
   "outputs": [],
   "source": [
    "# For BERT model\n",
    "\n",
    "# Load the Config object, with an output configured for classification.\n",
    "#config = AutoConfig.from_pretrained(pretrained_model_name_or_path='bert-base-uncased',\n",
    "                                    #num_labels=2)\n",
    "\n",
    "# Load the pre-trained model for classification, passing in the `config` from above.\n",
    "#model = AutoModelForSequenceClassification.from_pretrained(pretrained_model_name_or_path='bert-base-uncased',\n",
    "                                                           #config=config)"
   ]
  },
  {
   "cell_type": "code",
   "execution_count": 29,
   "metadata": {
    "colab": {
     "base_uri": "https://localhost:8080/"
    },
    "id": "7_YIoDZg27XL",
    "outputId": "391bd1be-5ba8-4d03-fe98-4caee9114de3"
   },
   "outputs": [
    {
     "name": "stderr",
     "output_type": "stream",
     "text": [
      "Some weights of the model checkpoint at distilbert-base-uncased were not used when initializing DistilBertForSequenceClassification: ['vocab_projector.weight', 'vocab_projector.bias', 'vocab_layer_norm.bias', 'vocab_transform.weight', 'vocab_transform.bias', 'vocab_layer_norm.weight']\n",
      "- This IS expected if you are initializing DistilBertForSequenceClassification from the checkpoint of a model trained on another task or with another architecture (e.g. initializing a BertForSequenceClassification model from a BertForPreTraining model).\n",
      "- This IS NOT expected if you are initializing DistilBertForSequenceClassification from the checkpoint of a model that you expect to be exactly identical (initializing a BertForSequenceClassification model from a BertForSequenceClassification model).\n",
      "Some weights of DistilBertForSequenceClassification were not initialized from the model checkpoint at distilbert-base-uncased and are newly initialized: ['pre_classifier.weight', 'classifier.bias', 'pre_classifier.bias', 'classifier.weight']\n",
      "You should probably TRAIN this model on a down-stream task to be able to use it for predictions and inference.\n"
     ]
    }
   ],
   "source": [
    "# For DistilBERT model\n",
    "\n",
    "# Load the Config object, with an output configured for classification.\n",
    "config = AutoConfig.from_pretrained(pretrained_model_name_or_path='distilbert-base-uncased',\n",
    "                                    num_labels=2)\n",
    "\n",
    "# Load the pre-trained model for classification, passing in the `config` from above.\n",
    "model = AutoModelForSequenceClassification.from_pretrained(pretrained_model_name_or_path='distilbert-base-uncased',\n",
    "                                                           config=config)"
   ]
  },
  {
   "cell_type": "code",
   "execution_count": 30,
   "metadata": {
    "colab": {
     "base_uri": "https://localhost:8080/"
    },
    "id": "claMwWkIy0Yn",
    "outputId": "fd0b440d-a4af-49c3-97f9-e74ad42a4e40"
   },
   "outputs": [
    {
     "data": {
      "text/plain": [
       "5535"
      ]
     },
     "execution_count": 30,
     "metadata": {},
     "output_type": "execute_result"
    }
   ],
   "source": [
    "# Collect garbage\n",
    "torch.cuda.empty_cache()\n",
    "gc.collect()"
   ]
  },
  {
   "cell_type": "code",
   "execution_count": 31,
   "metadata": {
    "colab": {
     "base_uri": "https://localhost:8080/"
    },
    "id": "hRC-I0emy0Yn",
    "outputId": "52c54d8c-9042-4921-ca9d-d513c4793720"
   },
   "outputs": [
    {
     "name": "stdout",
     "output_type": "stream",
     "text": [
      "Loading model to GPU\n",
      "--- GPU: Tesla K80\n",
      "DONE.\n"
     ]
    }
   ],
   "source": [
    "print('Loading model to GPU')\n",
    "\n",
    "device = torch.device('cuda')\n",
    "\n",
    "print('--- GPU:', torch.cuda.get_device_name(0))\n",
    "\n",
    "desc = model.to(device)\n",
    "\n",
    "print('DONE.')"
   ]
  },
  {
   "cell_type": "markdown",
   "metadata": {
    "id": "Lo9ohW1ly0Yn"
   },
   "source": [
    "## Set up the optimizer"
   ]
  },
  {
   "cell_type": "code",
   "execution_count": 32,
   "metadata": {
    "id": "zEGX2jcHy0Yn"
   },
   "outputs": [],
   "source": [
    "# AdamW is a class from the huggingface library, 'W' stands for 'Weight Decay fix\"\n",
    "optimizer = AdamW(model.parameters(),\n",
    "                  lr = 5e-5, # Got this value after hyper parameter optimization\n",
    "                )"
   ]
  },
  {
   "cell_type": "markdown",
   "metadata": {
    "id": "1VDcKNHuy0Yn"
   },
   "source": [
    "## Set up the scheduler"
   ]
  },
  {
   "cell_type": "code",
   "execution_count": 33,
   "metadata": {
    "id": "JqN8atFUy0Yn"
   },
   "outputs": [],
   "source": [
    "epochs = 1\n",
    "\n",
    "# Total number of training steps is [number of batches] x [number of epochs]. \n",
    "# Note that it's the number of *batches*, not *samples*!\n",
    "total_steps = len(py_inputs) * epochs\n",
    "\n",
    "# Create the learning rate scheduler.\n",
    "scheduler = get_linear_schedule_with_warmup(optimizer, \n",
    "                                            num_warmup_steps = 0, # Default value in run_glue.py\n",
    "                                            num_training_steps = total_steps)"
   ]
  },
  {
   "cell_type": "markdown",
   "metadata": {
    "id": "QDT8_fgly0Yo"
   },
   "source": [
    "## Train the model"
   ]
  },
  {
   "cell_type": "code",
   "execution_count": 34,
   "metadata": {
    "colab": {
     "base_uri": "https://localhost:8080/"
    },
    "id": "Y8xpY_ooy0Yo",
    "outputId": "a20645ab-9c75-4460-82ba-44090e06e4cb"
   },
   "outputs": [
    {
     "name": "stdout",
     "output_type": "stream",
     "text": [
      "\n",
      "======== Epoch 1 / 1 ========\n",
      "Training on 2,188 batches\n",
      "  Batch     200  of    2,188.    Elapsed: 0:01:23.\n",
      "  Batch     400  of    2,188.    Elapsed: 0:02:49.\n",
      "  Batch     600  of    2,188.    Elapsed: 0:04:13.\n",
      "  Batch     800  of    2,188.    Elapsed: 0:05:40.\n",
      "  Batch   1,000  of    2,188.    Elapsed: 0:07:05.\n",
      "  Batch   1,200  of    2,188.    Elapsed: 0:08:38.\n",
      "  Batch   1,400  of    2,188.    Elapsed: 0:10:01.\n",
      "  Batch   1,600  of    2,188.    Elapsed: 0:11:25.\n",
      "  Batch   1,800  of    2,188.    Elapsed: 0:12:50.\n",
      "  Batch   2,000  of    2,188.    Elapsed: 0:14:21.\n",
      "\n",
      "  Average training loss: 0.29\n",
      "  Training epcoh took: 0:15:49\n",
      "\n",
      "Training complete!\n",
      "Total training took 0:15:49 (h:mm:ss)\n"
     ]
    }
   ],
   "source": [
    "# This training code is based on the `run_glue.py` script of huggingface.\n",
    "\n",
    "# Set the seed value all over the place to make this reproducible.\n",
    "seed_val = 321\n",
    "\n",
    "random.seed(seed_val)\n",
    "np.random.seed(seed_val)\n",
    "torch.manual_seed(seed_val)\n",
    "torch.cuda.manual_seed_all(seed_val)\n",
    "\n",
    "# We'll store a number of quantities such as training and validation loss, validation accuracy, and timings.\n",
    "training_stats = []\n",
    "\n",
    "# Update every `update_interval` batches.\n",
    "update_interval = updating_interval(total_iterations=len(py_inputs), number_of_desired_updates=10)\n",
    "\n",
    "# Measure the total training time for the whole run.\n",
    "total_t0 = time.time()\n",
    "\n",
    "epochs=1\n",
    "# For each epoch...\n",
    "for epoch_i in range(0, epochs):\n",
    "    \n",
    "    # Perform one full pass over the training set.\n",
    "\n",
    "    print(\"\")\n",
    "    print('======== Epoch {:} / {:} ========'.format(epoch_i + 1, epochs))\n",
    "    \n",
    "    # At the start of each epoch (except for the first) we need to re-randomize our training data.\n",
    "    if epoch_i > 0:\n",
    "        # Use our `make_smart_batches` function to re-shuffle the dataset into new batches.\n",
    "        (py_inputs, py_attn_masks, py_labels) = make_smart_batches(train_text, train_labels, batch_size)\n",
    "    \n",
    "    print('Training on {:,} batches'.format(len(py_inputs)))\n",
    "\n",
    "    # Measure how long the training epoch takes.\n",
    "    t0 = time.time()\n",
    "\n",
    "    # Reset the total loss for this epoch.\n",
    "    total_train_loss = 0\n",
    "\n",
    "    # Put the model into training mode. \n",
    "    model.train()\n",
    "\n",
    "    # For each batch of training data.\n",
    "    for step in range(0, len(py_inputs)):\n",
    "\n",
    "        # Progress update every, e.g., 100 batches.\n",
    "        if step % update_interval == 0 and not step == 0:\n",
    "            # Calculate elapsed time in minutes.\n",
    "            elapsed = show_time(time.time() - t0)\n",
    "\n",
    "            # Report progress.\n",
    "            print('  Batch {:>7,}  of  {:>7,}.    Elapsed: {:}.'.format(step, len(py_inputs), elapsed))\n",
    "\n",
    "        # Copy the current training batch to the GPU using the `to` method.\n",
    "        b_input_ids = py_inputs[step].to(device)\n",
    "        b_input_mask = py_attn_masks[step].to(device)\n",
    "        b_labels = py_labels[step].to(device)\n",
    "\n",
    "        # Always clear any previously calculated gradients before performing a backward pass.\n",
    "        model.zero_grad()        \n",
    "\n",
    "        # Perform a forward pass (evaluate the model on this training batch).\n",
    "        # The call returns the loss (because we provided labels) and the \n",
    "        # \"logits\"--the model outputs prior to activation.\n",
    "        loss, logits = model(b_input_ids, \n",
    "                             attention_mask=b_input_mask, \n",
    "                             labels=b_labels).values()\n",
    "\n",
    "        # Accumulate the training loss over all of the batches so that we can\n",
    "        # calculate the average loss at the end. `loss` is a Tensor containing a\n",
    "        # single value; the `.item()` function just returns the Python value \n",
    "        # from the tensor.\n",
    "        total_train_loss += loss.item()\n",
    "\n",
    "        # Perform a backward pass to calculate the gradients.\n",
    "        loss.backward()\n",
    "\n",
    "        # Clip the norm of the gradients to 1.0.\n",
    "        # This is to help prevent the \"exploding gradients\" problem.\n",
    "        torch.nn.utils.clip_grad_norm_(model.parameters(), 1.0)\n",
    "\n",
    "        # Update parameters and take a step using the computed gradient.\n",
    "        # The optimizer dictates the \"update rule\"--how the parameters are\n",
    "        # modified based on their gradients, the learning rate, etc.\n",
    "        optimizer.step()\n",
    "\n",
    "        # Update the learning rate.\n",
    "        scheduler.step()\n",
    "\n",
    "    # Calculate the average loss over all of the batches.\n",
    "    avg_train_loss = total_train_loss / len(py_inputs)            \n",
    "    \n",
    "    # Measure how long this epoch took.\n",
    "    training_time = show_time(time.time() - t0)\n",
    "\n",
    "    print(\"\")\n",
    "    print(\"  Average training loss: {0:.2f}\".format(avg_train_loss))\n",
    "    print(\"  Training epcoh took: {:}\".format(training_time))\n",
    "        \n",
    "    # Record all statistics from this epoch.\n",
    "    training_stats.append(\n",
    "        {\n",
    "            'epoch': epoch_i + 1,\n",
    "            'Training Loss': avg_train_loss,\n",
    "            'Training Time': training_time,\n",
    "        }\n",
    "    )\n",
    "\n",
    "print(\"\")\n",
    "print(\"Training complete!\")\n",
    "\n",
    "print(\"Total training took {:} (h:mm:ss)\".format(show_time(time.time()-total_t0)))"
   ]
  },
  {
   "cell_type": "markdown",
   "metadata": {
    "id": "WV2n3_Awy0Yo"
   },
   "source": [
    "## Evaluating the model on test data"
   ]
  },
  {
   "cell_type": "code",
   "execution_count": 35,
   "metadata": {
    "colab": {
     "base_uri": "https://localhost:8080/"
    },
    "id": "CZbGJN43y0Yo",
    "outputId": "238265bc-0533-4bed-8265-10f09dbf40e0"
   },
   "outputs": [
    {
     "name": "stdout",
     "output_type": "stream",
     "text": [
      "Creating Smart Batches from 7,500 examples with batch size 16\n",
      "\n",
      "Tokenizing 7,500 samples\n",
      "  Tokenized 0 samples.\n",
      "  Tokenized 800 samples.\n",
      "  Tokenized 1,600 samples.\n",
      "  Tokenized 2,400 samples.\n",
      "  Tokenized 3,200 samples.\n",
      "  Tokenized 4,000 samples.\n",
      "  Tokenized 4,800 samples.\n",
      "  Tokenized 5,600 samples.\n",
      "  Tokenized 6,400 samples.\n",
      "  Tokenized 7,200 samples.\n",
      "DONE.\n",
      "     7,500 samples\n",
      "\n",
      "     7,500 samples AFTER sorting\n",
      "\n",
      "Creating batches of size 16\n",
      "DONE.\n",
      "Padding out sequences within each batch\n",
      "DONE.\n",
      "Predicting labels for 7,500 test sentences\n",
      "--- Batch      50  of      469.    Elapsed: 0:00:07.\n",
      "--- Batch     100  of      469.    Elapsed: 0:00:15.\n",
      "--- Batch     150  of      469.    Elapsed: 0:00:23.\n",
      "--- Batch     200  of      469.    Elapsed: 0:00:30.\n",
      "--- Batch     250  of      469.    Elapsed: 0:00:38.\n",
      "--- Batch     300  of      469.    Elapsed: 0:00:46.\n",
      "--- Batch     350  of      469.    Elapsed: 0:00:54.\n",
      "--- Batch     400  of      469.    Elapsed: 0:01:01.\n",
      "--- Batch     450  of      469.    Elapsed: 0:01:08.\n",
      "DONE.\n",
      "Accuracy: 0.911\n"
     ]
    }
   ],
   "source": [
    "# Use our new function to completely prepare our dataset.\n",
    "(py_inputs, py_attn_masks, py_labels) = make_smart_batches(test_text, test_labels, batch_size)\n",
    "\n",
    "# Prediction on test set\n",
    "print('Predicting labels for {:,} test sentences'.format(len(test_labels)))\n",
    "\n",
    "# Put model in evaluation mode\n",
    "model.eval()\n",
    "\n",
    "# Tracking variables \n",
    "predictions , true_labels = [], []\n",
    "\n",
    "# Choose an interval on which to print progress updates.\n",
    "update_interval = updating_interval(total_iterations=len(py_inputs), number_of_desired_updates=10)\n",
    "\n",
    "# Measure elapsed time.\n",
    "t0 = time.time()\n",
    "\n",
    "# For each batch of the data\n",
    "for step in range(0, len(py_inputs)):\n",
    "\n",
    "    # Progress update every 100 batches.\n",
    "    if step % update_interval == 0 and not step == 0:\n",
    "        # Calculate elapsed time in minutes.\n",
    "        elapsed = show_time(time.time() - t0)\n",
    "\n",
    "        # Report progress.\n",
    "        print('--- Batch {:>7,}  of  {:>7,}.    Elapsed: {:}.'.format(step, len(py_inputs), elapsed))\n",
    "\n",
    "    # Copy the batch to the GPU.\n",
    "    b_input_ids = py_inputs[step].to(device)\n",
    "    b_input_mask = py_attn_masks[step].to(device)\n",
    "    b_labels = py_labels[step].to(device)\n",
    "  \n",
    "    # Telling the model not to compute or store gradients, saving memory and speeding up prediction\n",
    "    with torch.no_grad():\n",
    "        # Forward pass, calculate logit predictions\n",
    "        outputs = model(b_input_ids,\n",
    "                        attention_mask=b_input_mask)\n",
    "\n",
    "    logits = outputs[0]\n",
    "\n",
    "    # Move logits and labels to CPU\n",
    "    logits = logits.detach().cpu().numpy()\n",
    "    label_ids = b_labels.to('cpu').numpy()\n",
    "  \n",
    "    # Store predictions and true labels\n",
    "    predictions.append(logits)\n",
    "    true_labels.append(label_ids)\n",
    "\n",
    "print('DONE.')\n",
    "\n",
    "# Combine the results across the batches.\n",
    "predictions = np.concatenate(predictions, axis=0)\n",
    "true_labels = np.concatenate(true_labels, axis=0)\n",
    "\n",
    "# Choose the label with the highest score as our prediction.\n",
    "preds = np.argmax(predictions, axis=1).flatten()\n",
    "\n",
    "# Calculate simple flat accuracy -- number correct over total number.\n",
    "accuracy = (preds == true_labels).mean()\n",
    "\n",
    "print('Accuracy: {:.3f}'.format(accuracy))"
   ]
  },
  {
   "cell_type": "markdown",
   "metadata": {
    "id": "8B6dJnbey0Yp"
   },
   "source": [
    "## Evaluating the model on validation data"
   ]
  },
  {
   "cell_type": "code",
   "execution_count": 37,
   "metadata": {
    "colab": {
     "base_uri": "https://localhost:8080/"
    },
    "id": "3hWsYLy8y0Yp",
    "outputId": "7ceb5a32-e307-462d-938c-82b4db2a860a"
   },
   "outputs": [
    {
     "name": "stdout",
     "output_type": "stream",
     "text": [
      "Creating Smart Batches from 7,500 examples with batch size 16\n",
      "\n",
      "Tokenizing 7,500 samples\n",
      "  Tokenized 0 samples.\n",
      "  Tokenized 800 samples.\n",
      "  Tokenized 1,600 samples.\n",
      "  Tokenized 2,400 samples.\n",
      "  Tokenized 3,200 samples.\n",
      "  Tokenized 4,000 samples.\n",
      "  Tokenized 4,800 samples.\n",
      "  Tokenized 5,600 samples.\n",
      "  Tokenized 6,400 samples.\n",
      "  Tokenized 7,200 samples.\n",
      "DONE.\n",
      "     7,500 samples\n",
      "\n",
      "     7,500 samples AFTER sorting\n",
      "\n",
      "Creating batches of size 16\n",
      "DONE.\n",
      "Padding out sequences within each batch\n",
      "DONE.\n",
      "Predicting labels for 7,500 validation sentences\n",
      "--- Batch      50  of      469.    Elapsed: 0:00:08.\n",
      "--- Batch     100  of      469.    Elapsed: 0:00:15.\n",
      "--- Batch     150  of      469.    Elapsed: 0:00:23.\n",
      "--- Batch     200  of      469.    Elapsed: 0:00:30.\n",
      "--- Batch     250  of      469.    Elapsed: 0:00:37.\n",
      "--- Batch     300  of      469.    Elapsed: 0:00:44.\n",
      "--- Batch     350  of      469.    Elapsed: 0:00:51.\n",
      "--- Batch     400  of      469.    Elapsed: 0:01:00.\n",
      "--- Batch     450  of      469.    Elapsed: 0:01:08.\n",
      "DONE.\n",
      "Accuracy: 0.909\n"
     ]
    }
   ],
   "source": [
    "# Use our new function to completely prepare our dataset.\n",
    "(py_inputs, py_attn_masks, py_labels) = make_smart_batches(val_text, val_labels, batch_size)\n",
    "\n",
    "# Prediction on test set\n",
    "print('Predicting labels for {:,} validation sentences'.format(len(val_labels)))\n",
    "\n",
    "# Put model in evaluation mode\n",
    "model.eval()\n",
    "\n",
    "# Tracking variables \n",
    "predictions , true_labels = [], []\n",
    "\n",
    "# Choose an interval on which to print progress updates.\n",
    "update_interval = updating_interval(total_iterations=len(py_inputs), number_of_desired_updates=10)\n",
    "\n",
    "# Measure elapsed time.\n",
    "t0 = time.time()\n",
    "\n",
    "# For each batch of the data\n",
    "for step in range(0, len(py_inputs)):\n",
    "\n",
    "    # Progress update every 100 batches.\n",
    "    if step % update_interval == 0 and not step == 0:\n",
    "        # Calculate elapsed time in minutes.\n",
    "        elapsed = show_time(time.time() - t0)\n",
    "\n",
    "        # Report progress.\n",
    "        print('--- Batch {:>7,}  of  {:>7,}.    Elapsed: {:}.'.format(step, len(py_inputs), elapsed))\n",
    "\n",
    "    # Copy the batch to the GPU.\n",
    "    b_input_ids = py_inputs[step].to(device)\n",
    "    b_input_mask = py_attn_masks[step].to(device)\n",
    "    b_labels = py_labels[step].to(device)\n",
    "  \n",
    "    # Telling the model not to compute or store gradients, saving memory and speeding up prediction\n",
    "    with torch.no_grad():\n",
    "        # Forward pass, calculate logit predictions\n",
    "        outputs = model(b_input_ids,\n",
    "                        attention_mask=b_input_mask)\n",
    "\n",
    "    logits = outputs[0]\n",
    "\n",
    "    # Move logits and labels to CPU\n",
    "    logits = logits.detach().cpu().numpy()\n",
    "    label_ids = b_labels.to('cpu').numpy()\n",
    "  \n",
    "    # Store predictions and true labels\n",
    "    predictions.append(logits)\n",
    "    true_labels.append(label_ids)\n",
    "\n",
    "print('DONE.')\n",
    "\n",
    "# Combine the results across the batches.\n",
    "predictions = np.concatenate(predictions, axis=0)\n",
    "true_labels = np.concatenate(true_labels, axis=0)\n",
    "\n",
    "# Choose the label with the highest score as our prediction.\n",
    "preds = np.argmax(predictions, axis=1).flatten()\n",
    "\n",
    "# Calculate simple flat accuracy -- number correct over total number.\n",
    "accuracy = (preds == true_labels).mean()\n",
    "\n",
    "print('Accuracy: {:.3f}'.format(accuracy))"
   ]
  },
  {
   "cell_type": "markdown",
   "metadata": {
    "id": "s-vbbdvOy0Yp"
   },
   "source": [
    "## Count Parameters"
   ]
  },
  {
   "cell_type": "code",
   "execution_count": 38,
   "metadata": {
    "colab": {
     "base_uri": "https://localhost:8080/"
    },
    "id": "1kc-L7rny0Yp",
    "outputId": "cb293d67-e7c7-4b88-87e6-e637c18e41b9"
   },
   "outputs": [
    {
     "name": "stdout",
     "output_type": "stream",
     "text": [
      "66955010\n"
     ]
    }
   ],
   "source": [
    "def count_parameters(model):\n",
    "  '''\n",
    "  Count number of parameters in the model.\n",
    "  '''\n",
    "  return sum(p.numel() for p in model.parameters() if p.requires_grad)\n",
    "\n",
    "# Count model params\n",
    "print(count_parameters(model))"
   ]
  }
 ],
 "metadata": {
  "accelerator": "GPU",
  "colab": {
   "collapsed_sections": [],
   "name": "Transformer Novel Approach",
   "provenance": []
  },
  "kernelspec": {
   "display_name": "Python 3",
   "language": "python",
   "name": "python3"
  },
  "language_info": {
   "codemirror_mode": {
    "name": "ipython",
    "version": 3
   },
   "file_extension": ".py",
   "mimetype": "text/x-python",
   "name": "python",
   "nbconvert_exporter": "python",
   "pygments_lexer": "ipython3",
   "version": "3.8.3"
  }
 },
 "nbformat": 4,
 "nbformat_minor": 1
}
