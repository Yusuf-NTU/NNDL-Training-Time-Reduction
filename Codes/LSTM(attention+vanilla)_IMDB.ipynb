{
  "nbformat": 4,
  "nbformat_minor": 0,
  "metadata": {
    "colab": {
      "name": "XXXX of RNN (NNDL).ipynb",
      "provenance": [],
      "collapsed_sections": []
    },
    "kernelspec": {
      "name": "python3",
      "display_name": "Python 3"
    },
    "language_info": {
      "name": "python"
    },
    "accelerator": "GPU"
  },
  "cells": [
    {
      "cell_type": "code",
      "metadata": {
        "id": "GmV54Mu2b8PH"
      },
      "source": [
        "from tensorflow.keras.datasets import imdb\n",
        "from tensorflow.keras.layers import *\n",
        "from tensorflow.keras.models import *\n",
        "from tensorflow.keras.datasets import mnist\n",
        "from tensorflow.keras.utils import to_categorical\n",
        "from tensorflow.keras.optimizers import *\n",
        "from tensorflow.keras.preprocessing.text import Tokenizer as tk\n",
        "from tensorflow.keras.callbacks import Callback\n",
        "import tensorflow.keras.backend as K\n",
        "from tensorflow.keras.callbacks import EarlyStopping\n",
        "from sklearn.preprocessing import LabelEncoder\n",
        "from sklearn.model_selection import train_test_split\n",
        "from tensorflow.keras.preprocessing.sequence import pad_sequences\n",
        "import tensorflow as tf\n",
        "import numpy as np\n",
        "import pandas as pd\n",
        "import time"
      ],
      "execution_count": 42,
      "outputs": []
    },
    {
      "cell_type": "markdown",
      "metadata": {
        "id": "OyDpQohJ_rcK"
      },
      "source": [
        "## Loading and processing the data"
      ]
    },
    {
      "cell_type": "code",
      "metadata": {
        "id": "LDpXkgFccD0M"
      },
      "source": [
        "dframe = pd.read_csv('IMDB Dataset.csv')\n",
        "# df = dframe.sample(20000)\n",
        "df = dframe\n",
        "df.head()\n",
        "\n",
        "def Average(lst):\n",
        "    return sum(lst) / len(lst)"
      ],
      "execution_count": 31,
      "outputs": []
    },
    {
      "cell_type": "code",
      "metadata": {
        "colab": {
          "base_uri": "https://localhost:8080/"
        },
        "id": "QDEFS1VkfFBr",
        "outputId": "54132cf1-e792-4a1b-a40c-b8b92d14d067"
      },
      "source": [
        "df[\"sentiment\"].value_counts()"
      ],
      "execution_count": 5,
      "outputs": [
        {
          "output_type": "execute_result",
          "data": {
            "text/plain": [
              "positive    25000\n",
              "negative    25000\n",
              "Name: sentiment, dtype: int64"
            ]
          },
          "metadata": {},
          "execution_count": 5
        }
      ]
    },
    {
      "cell_type": "code",
      "metadata": {
        "id": "xKeCVd2AcRD9"
      },
      "source": [
        "encoder = LabelEncoder()\n",
        "\n",
        "df['sentiment'] = encoder.fit_transform(df['sentiment'])"
      ],
      "execution_count": 6,
      "outputs": []
    },
    {
      "cell_type": "code",
      "metadata": {
        "colab": {
          "base_uri": "https://localhost:8080/",
          "height": 204
        },
        "id": "5zKFb-lm-yTV",
        "outputId": "5c414a0a-2ff9-472e-d79e-7f104a4b444d"
      },
      "source": [
        "df.head()"
      ],
      "execution_count": 7,
      "outputs": [
        {
          "output_type": "execute_result",
          "data": {
            "text/html": [
              "<div>\n",
              "<style scoped>\n",
              "    .dataframe tbody tr th:only-of-type {\n",
              "        vertical-align: middle;\n",
              "    }\n",
              "\n",
              "    .dataframe tbody tr th {\n",
              "        vertical-align: top;\n",
              "    }\n",
              "\n",
              "    .dataframe thead th {\n",
              "        text-align: right;\n",
              "    }\n",
              "</style>\n",
              "<table border=\"1\" class=\"dataframe\">\n",
              "  <thead>\n",
              "    <tr style=\"text-align: right;\">\n",
              "      <th></th>\n",
              "      <th>review</th>\n",
              "      <th>sentiment</th>\n",
              "    </tr>\n",
              "  </thead>\n",
              "  <tbody>\n",
              "    <tr>\n",
              "      <th>0</th>\n",
              "      <td>One of the other reviewers has mentioned that ...</td>\n",
              "      <td>1</td>\n",
              "    </tr>\n",
              "    <tr>\n",
              "      <th>1</th>\n",
              "      <td>A wonderful little production. &lt;br /&gt;&lt;br /&gt;The...</td>\n",
              "      <td>1</td>\n",
              "    </tr>\n",
              "    <tr>\n",
              "      <th>2</th>\n",
              "      <td>I thought this was a wonderful way to spend ti...</td>\n",
              "      <td>1</td>\n",
              "    </tr>\n",
              "    <tr>\n",
              "      <th>3</th>\n",
              "      <td>Basically there's a family where a little boy ...</td>\n",
              "      <td>0</td>\n",
              "    </tr>\n",
              "    <tr>\n",
              "      <th>4</th>\n",
              "      <td>Petter Mattei's \"Love in the Time of Money\" is...</td>\n",
              "      <td>1</td>\n",
              "    </tr>\n",
              "  </tbody>\n",
              "</table>\n",
              "</div>"
            ],
            "text/plain": [
              "                                              review  sentiment\n",
              "0  One of the other reviewers has mentioned that ...          1\n",
              "1  A wonderful little production. <br /><br />The...          1\n",
              "2  I thought this was a wonderful way to spend ti...          1\n",
              "3  Basically there's a family where a little boy ...          0\n",
              "4  Petter Mattei's \"Love in the Time of Money\" is...          1"
            ]
          },
          "metadata": {},
          "execution_count": 7
        }
      ]
    },
    {
      "cell_type": "code",
      "metadata": {
        "id": "r0OLHNCwcSP2"
      },
      "source": [
        "X = np.array(df.drop(columns=['sentiment'])).reshape(len(df),)\n",
        "y = np.array(df['sentiment'])\n",
        "\n",
        "# X = np.array(df.drop(columns=['sentiment'])).reshape((-1,1))\n",
        "# y = np.array(df['sentiment']).reshape((-1,1))"
      ],
      "execution_count": 8,
      "outputs": []
    },
    {
      "cell_type": "code",
      "metadata": {
        "id": "bcogyTW4cSSF"
      },
      "source": [
        "# xtr , xte , ytr, yte = train_test_split(X, y, test_size=0.15, random_state=1,stratify=y)\n",
        "# xtr, xval, ytr, yval = train_test_split(xtr, ytr, test_size=0.176, random_state=1, stratify=ytr)\n",
        "\n",
        "xtr , xte , ytr, yte = train_test_split(X, y, test_size=0.3, random_state=1,stratify=y)\n",
        "xte, xval, yte, yval = train_test_split(xte, yte, test_size=0.5, random_state=1, stratify=yte)"
      ],
      "execution_count": 9,
      "outputs": []
    },
    {
      "cell_type": "code",
      "metadata": {
        "id": "-VjXTsPPcSUQ"
      },
      "source": [
        "tok=tk(num_words=30522, filters='!\"#$%&()*+,-./:;<=>?@[\\\\]^_`{|}~\\t\\n',lower=True, split=' ',char_level=False, oov_token='Farid')"
      ],
      "execution_count": 11,
      "outputs": []
    },
    {
      "cell_type": "code",
      "metadata": {
        "id": "w_9QIIPbcSWb"
      },
      "source": [
        "tok.fit_on_texts(xtr)"
      ],
      "execution_count": 12,
      "outputs": []
    },
    {
      "cell_type": "code",
      "metadata": {
        "id": "_CEmuqbJcSY7"
      },
      "source": [
        "xtr1 = tok.texts_to_sequences(xtr)\n",
        "xte1 = tok.texts_to_sequences(xte)\n",
        "xval1 = tok.texts_to_sequences(xval)"
      ],
      "execution_count": 13,
      "outputs": []
    },
    {
      "cell_type": "code",
      "metadata": {
        "id": "dqrcdU8uca3W"
      },
      "source": [
        "sequence_len = 400\n",
        "xtr2 = pad_sequences(xtr1,sequence_len, padding='post',truncating='post')\n",
        "xte2 = pad_sequences(xte1,sequence_len, padding='post', truncating='post')\n",
        "xval2 = pad_sequences(xval1,sequence_len, padding='post', truncating='post')"
      ],
      "execution_count": 14,
      "outputs": []
    },
    {
      "cell_type": "code",
      "metadata": {
        "colab": {
          "base_uri": "https://localhost:8080/"
        },
        "id": "nSjN5-djx4HY",
        "outputId": "e8ee01b4-90a9-4156-e0ab-feb7e8a49133"
      },
      "source": [
        "xtr2"
      ],
      "execution_count": 15,
      "outputs": [
        {
          "output_type": "execute_result",
          "data": {
            "text/plain": [
              "array([[  12,  406,   20, ...,    0,    0,    0],\n",
              "       [  12,   14,  540, ...,    0,    0,    0],\n",
              "       [ 137,   11, 1342, ...,    0,    0,    0],\n",
              "       ...,\n",
              "       [   4,  437,  507, ...,    0,    0,    0],\n",
              "       [   2,   87, 1098, ...,    0,    0,    0],\n",
              "       [   2,  111,  353, ...,    0,    0,    0]], dtype=int32)"
            ]
          },
          "metadata": {},
          "execution_count": 15
        }
      ]
    },
    {
      "cell_type": "code",
      "metadata": {
        "id": "gdomwL-Tca5b"
      },
      "source": [
        "xtr3 = np.flip(xtr2, 1)\n",
        "xte3 = np.flip(xte2, 1)\n",
        "xval3 = np.flip(xval2, 1)"
      ],
      "execution_count": 16,
      "outputs": []
    },
    {
      "cell_type": "code",
      "metadata": {
        "colab": {
          "base_uri": "https://localhost:8080/"
        },
        "id": "sKBaWXu_ca7U",
        "outputId": "b60734b6-62eb-4ba6-acb1-a4ac7b5858e6"
      },
      "source": [
        "print(xtr3.shape)\n",
        "print(xte3.shape)\n",
        "print(xval3.shape)"
      ],
      "execution_count": 17,
      "outputs": [
        {
          "output_type": "stream",
          "name": "stdout",
          "text": [
            "(35000, 400)\n",
            "(7500, 400)\n",
            "(7500, 400)\n"
          ]
        }
      ]
    },
    {
      "cell_type": "markdown",
      "metadata": {
        "id": "7pLxbR0smPCy"
      },
      "source": [
        "## Training base model"
      ]
    },
    {
      "cell_type": "code",
      "metadata": {
        "id": "kZLNYvS0ca9W"
      },
      "source": [
        "embedding_vecor_length = 768\n",
        "max_review_length = 400\n",
        "NUM_WORDS = 30522\n",
        "\n",
        "tf.keras.backend.clear_session()\n",
        "model = Sequential()\n",
        "\n",
        "# input embedding vectors with CNN maxpooling\n",
        "model.add(Embedding(NUM_WORDS, embedding_vecor_length, input_length=max_review_length))\n",
        "model.add(Conv1D(filters=100, kernel_size=3, padding='same', activation='relu'))\n",
        "model.add(MaxPooling1D())\n",
        "\n",
        "# LSTM (GRU) layer\n",
        "model.add(GRU(50, return_sequences=True))\n",
        "model.add(Dropout(0.5))\n",
        "\n",
        "# output dense layer\n",
        "model.add(Dense(100,activation='relu'))\n",
        "model.add(Flatten())\n",
        "model.add(Dense(1, activation='sigmoid'))"
      ],
      "execution_count": null,
      "outputs": []
    },
    {
      "cell_type": "code",
      "metadata": {
        "colab": {
          "base_uri": "https://localhost:8080/"
        },
        "id": "3rBfiRPNca_H",
        "outputId": "4b3398a5-38d0-4304-dc61-f629ac4a4c06"
      },
      "source": [
        "model.compile(optimizer='adam', loss='binary_crossentropy',metrics='accuracy')\n",
        "model.summary()"
      ],
      "execution_count": null,
      "outputs": [
        {
          "output_type": "stream",
          "name": "stdout",
          "text": [
            "Model: \"sequential\"\n",
            "_________________________________________________________________\n",
            " Layer (type)                Output Shape              Param #   \n",
            "=================================================================\n",
            " embedding (Embedding)       (None, 400, 768)          23440896  \n",
            "                                                                 \n",
            " conv1d (Conv1D)             (None, 400, 100)          230500    \n",
            "                                                                 \n",
            " max_pooling1d (MaxPooling1D  (None, 200, 100)         0         \n",
            " )                                                               \n",
            "                                                                 \n",
            " gru (GRU)                   (None, 200, 50)           22800     \n",
            "                                                                 \n",
            " dropout (Dropout)           (None, 200, 50)           0         \n",
            "                                                                 \n",
            " dense (Dense)               (None, 200, 100)          5100      \n",
            "                                                                 \n",
            " flatten (Flatten)           (None, 20000)             0         \n",
            "                                                                 \n",
            " dense_1 (Dense)             (None, 1)                 20001     \n",
            "                                                                 \n",
            "=================================================================\n",
            "Total params: 23,719,297\n",
            "Trainable params: 23,719,297\n",
            "Non-trainable params: 0\n",
            "_________________________________________________________________\n"
          ]
        }
      ]
    },
    {
      "cell_type": "code",
      "metadata": {
        "id": "Mi8qsgiKoQ76"
      },
      "source": [
        "class TimeForEpoch(Callback):\n",
        "    def on_train_begin(self, logs={}):\n",
        "        self.times=[]\n",
        "        \n",
        "    def on_epoch_begin(self, epoch, logs={}):\n",
        "        self.starttime = time.time()\n",
        "        \n",
        "    def on_epoch_end(self, epoch, logs={}):\n",
        "        self.times.append(time.time()-self.starttime)\n",
        "\n",
        "cb = TimeForEpoch()"
      ],
      "execution_count": 16,
      "outputs": []
    },
    {
      "cell_type": "code",
      "metadata": {
        "colab": {
          "base_uri": "https://localhost:8080/"
        },
        "id": "0PlLac99cbA5",
        "outputId": "2ddb9b1e-cc5c-47de-befd-82e23b54178a"
      },
      "source": [
        "history = model.fit(xtr3,ytr,epochs=2,batch_size=16,validation_data = (xval3,yval),shuffle=True,callbacks=[cb])"
      ],
      "execution_count": null,
      "outputs": [
        {
          "output_type": "stream",
          "name": "stdout",
          "text": [
            "Epoch 1/2\n",
            "2188/2188 [==============================] - 1367s 623ms/step - loss: 0.3275 - accuracy: 0.8549 - val_loss: 0.2449 - val_accuracy: 0.9096\n",
            "Epoch 2/2\n",
            "2188/2188 [==============================] - 1364s 623ms/step - loss: 0.1373 - accuracy: 0.9480 - val_loss: 0.2600 - val_accuracy: 0.9012\n"
          ]
        }
      ]
    },
    {
      "cell_type": "code",
      "metadata": {
        "colab": {
          "base_uri": "https://localhost:8080/"
        },
        "id": "vsGdDsgpqhI4",
        "outputId": "5f092695-0004-4c3f-ffab-89c87b07432c"
      },
      "source": [
        "def Average(lst):\n",
        "    return sum(lst) / len(lst)\n",
        "\n",
        "average_epoch_time = Average(cb.times)\n",
        "print(\"Average epoch time:\", average_epoch_time)"
      ],
      "execution_count": null,
      "outputs": [
        {
          "output_type": "stream",
          "name": "stdout",
          "text": [
            "Average epoch time: 1365.2078201770782\n"
          ]
        }
      ]
    },
    {
      "cell_type": "code",
      "metadata": {
        "colab": {
          "base_uri": "https://localhost:8080/"
        },
        "id": "JZcGXAxOcpIG",
        "outputId": "e5833ead-65c1-4001-c246-b351a8006493"
      },
      "source": [
        "starttime = time.time()\n",
        "print(\"Test accuracy: \", np.round(model.evaluate(xte3,yte,verbose=0)[1]*100,3),\"%\")\n",
        "endtime = time.time() - starttime"
      ],
      "execution_count": null,
      "outputs": [
        {
          "output_type": "stream",
          "name": "stdout",
          "text": [
            "Test accuracy:  90.347 %\n"
          ]
        }
      ]
    },
    {
      "cell_type": "code",
      "metadata": {
        "colab": {
          "base_uri": "https://localhost:8080/"
        },
        "id": "J0lv9TDzq_1z",
        "outputId": "fe138ec1-7d56-475b-8156-2c490ee12aeb"
      },
      "source": [
        "starttime = time.time()\n",
        "print(\"Validation accuracy: \", np.round(model.evaluate(xval3,yval,verbose=0)[1]*100,3),\"%\")\n",
        "endtime = time.time() - starttime"
      ],
      "execution_count": null,
      "outputs": [
        {
          "output_type": "stream",
          "name": "stdout",
          "text": [
            "Validation accuracy:  90.12 %\n"
          ]
        }
      ]
    },
    {
      "cell_type": "code",
      "metadata": {
        "colab": {
          "base_uri": "https://localhost:8080/"
        },
        "id": "TOyzxDjJuEcA",
        "outputId": "e674f9bb-a93f-40f5-b767-b3d4e58b143c"
      },
      "source": [
        "print(\"Average time per prediction:\", endtime/len(xte3))"
      ],
      "execution_count": null,
      "outputs": [
        {
          "output_type": "stream",
          "name": "stdout",
          "text": [
            "Average time per prediction: 0.005036624336242676\n"
          ]
        }
      ]
    },
    {
      "cell_type": "markdown",
      "metadata": {
        "id": "0QGE25r7oLCB"
      },
      "source": [
        "## Tuning number of hidden neurons"
      ]
    },
    {
      "cell_type": "markdown",
      "metadata": {
        "id": "yacArFplr0PN"
      },
      "source": [
        "### 100 neurons in Dense layer"
      ]
    },
    {
      "cell_type": "code",
      "metadata": {
        "id": "TojBge9noOM8"
      },
      "source": [
        "def make_model(neurons):\n",
        "  embedding_vecor_length = 768\n",
        "  max_review_length = 400\n",
        "  NUM_WORDS = 30522\n",
        "\n",
        "  tf.keras.backend.clear_session()\n",
        "  model = Sequential()\n",
        "  model.add(Embedding(NUM_WORDS, embedding_vecor_length, input_length=max_review_length))\n",
        "  model.add(Conv1D(filters=100, kernel_size=3, padding='same', activation='relu'))\n",
        "  model.add(MaxPooling1D())\n",
        "  model.add(GRU(neurons, return_sequences=True))\n",
        "  # model.add(GRU(50))\n",
        "  model.add(Dropout(0.5))\n",
        "  model.add(Dense(100,activation='relu'))\n",
        "  model.add(Flatten())\n",
        "  model.add(Dense(1, activation='sigmoid'))\n",
        "  return model"
      ],
      "execution_count": 44,
      "outputs": []
    },
    {
      "cell_type": "code",
      "metadata": {
        "colab": {
          "base_uri": "https://localhost:8080/"
        },
        "id": "KrMpAXmWoOKw",
        "outputId": "962ae4f0-5c17-4497-a888-30c22dbb8594"
      },
      "source": [
        "model_100_neurons = make_model(100)\n",
        "model_100_neurons.compile(optimizer='adam', loss='binary_crossentropy',metrics='accuracy')\n",
        "model_100_neurons.summary()"
      ],
      "execution_count": 45,
      "outputs": [
        {
          "output_type": "stream",
          "name": "stdout",
          "text": [
            "Model: \"sequential\"\n",
            "_________________________________________________________________\n",
            " Layer (type)                Output Shape              Param #   \n",
            "=================================================================\n",
            " embedding (Embedding)       (None, 400, 768)          23440896  \n",
            "                                                                 \n",
            " conv1d (Conv1D)             (None, 400, 100)          230500    \n",
            "                                                                 \n",
            " max_pooling1d (MaxPooling1D  (None, 200, 100)         0         \n",
            " )                                                               \n",
            "                                                                 \n",
            " gru (GRU)                   (None, 100)               60600     \n",
            "                                                                 \n",
            " dropout (Dropout)           (None, 100)               0         \n",
            "                                                                 \n",
            " dense (Dense)               (None, 100)               10100     \n",
            "                                                                 \n",
            " flatten (Flatten)           (None, 100)               0         \n",
            "                                                                 \n",
            " dense_1 (Dense)             (None, 1)                 101       \n",
            "                                                                 \n",
            "=================================================================\n",
            "Total params: 23,742,197\n",
            "Trainable params: 23,742,197\n",
            "Non-trainable params: 0\n",
            "_________________________________________________________________\n"
          ]
        }
      ]
    },
    {
      "cell_type": "code",
      "metadata": {
        "id": "LaDmqf5joOIh"
      },
      "source": [
        "early_stopping1 = EarlyStopping(monitor='val_loss', patience = 2, mode = 'min')\n",
        "history = model_100_neurons.fit(xtr3,ytr,epochs=2,batch_size=16,validation_data = (xval3,yval),shuffle=True,callbacks=[cb, early_stopping1])"
      ],
      "execution_count": null,
      "outputs": []
    },
    {
      "cell_type": "code",
      "metadata": {
        "id": "zcW4Q9E_sIxQ",
        "colab": {
          "base_uri": "https://localhost:8080/"
        },
        "outputId": "8bcac4ef-8a07-40f7-d55e-9a64f76bc4c8"
      },
      "source": [
        "def Average(lst):\n",
        "    return sum(lst) / len(lst)\n",
        "    \n",
        "average_epoch_time = Average(cb.times)\n",
        "print(\"Average epoch time:\", average_epoch_time)"
      ],
      "execution_count": 1,
      "outputs": [
        {
          "output_type": "stream",
          "name": "stdout",
          "text": [
            "Average epoch time: 1584.593629118219\n"
          ]
        }
      ]
    },
    {
      "cell_type": "code",
      "metadata": {
        "id": "UTlu3zXcsIxR",
        "colab": {
          "base_uri": "https://localhost:8080/"
        },
        "outputId": "ab45746b-1b1f-44d3-9847-1a340649f7a7"
      },
      "source": [
        "starttime = time.time()\n",
        "print(\"Test accuracy: \", np.round(model_100_neurons.evaluate(xte3,yte,verbose=0)[1]*100,3),\"%\")\n",
        "endtime = time.time() - starttime"
      ],
      "execution_count": 48,
      "outputs": [
        {
          "output_type": "stream",
          "name": "stdout",
          "text": [
            "Test accuracy:  90.573 %\n"
          ]
        }
      ]
    },
    {
      "cell_type": "code",
      "metadata": {
        "id": "bFhKBV79sIxR",
        "colab": {
          "base_uri": "https://localhost:8080/"
        },
        "outputId": "78595f65-ddf3-4bb7-ecd5-b3db07eff96e"
      },
      "source": [
        "starttime = time.time()\n",
        "print(\"Validation accuracy: \", np.round(model_100_neurons.evaluate(xval3,yval,verbose=0)[1]*100,3),\"%\")\n",
        "endtime = time.time() - starttime"
      ],
      "execution_count": 49,
      "outputs": [
        {
          "output_type": "stream",
          "name": "stdout",
          "text": [
            "Validation accuracy:  89.987 %\n"
          ]
        }
      ]
    },
    {
      "cell_type": "code",
      "metadata": {
        "id": "d6p0H_L2sIxR",
        "colab": {
          "base_uri": "https://localhost:8080/"
        },
        "outputId": "16b56a4a-a526-46fd-f34e-3c2da35a9e3c"
      },
      "source": [
        "print(\"Average time per prediction:\", endtime/len(xte3))"
      ],
      "execution_count": 50,
      "outputs": [
        {
          "output_type": "stream",
          "name": "stdout",
          "text": [
            "Average time per prediction: 0.0005742523193359375\n"
          ]
        }
      ]
    },
    {
      "cell_type": "markdown",
      "metadata": {
        "id": "1gNkaRtSy8TR"
      },
      "source": [
        "### 200 neurons in Dense layer"
      ]
    },
    {
      "cell_type": "code",
      "metadata": {
        "colab": {
          "base_uri": "https://localhost:8080/"
        },
        "id": "RfBur30Zy8TS",
        "outputId": "80478677-3027-4f26-98a9-410ef1241e00"
      },
      "source": [
        "model_200_neurons = make_model(200)\n",
        "model_200_neurons.compile(optimizer='adam', loss='binary_crossentropy',metrics='accuracy')\n",
        "model_200_neurons.summary()"
      ],
      "execution_count": null,
      "outputs": [
        {
          "output_type": "stream",
          "name": "stdout",
          "text": [
            "Model: \"sequential\"\n",
            "_________________________________________________________________\n",
            " Layer (type)                Output Shape              Param #   \n",
            "=================================================================\n",
            " embedding (Embedding)       (None, 400, 768)          23440896  \n",
            "                                                                 \n",
            " conv1d (Conv1D)             (None, 400, 100)          230500    \n",
            "                                                                 \n",
            " max_pooling1d (MaxPooling1D  (None, 200, 100)         0         \n",
            " )                                                               \n",
            "                                                                 \n",
            " gru (GRU)                   (None, 200, 200)          181200    \n",
            "                                                                 \n",
            " dropout (Dropout)           (None, 200, 200)          0         \n",
            "                                                                 \n",
            " dense (Dense)               (None, 200, 100)          20100     \n",
            "                                                                 \n",
            " flatten (Flatten)           (None, 20000)             0         \n",
            "                                                                 \n",
            " dense_1 (Dense)             (None, 1)                 20001     \n",
            "                                                                 \n",
            "=================================================================\n",
            "Total params: 23,892,697\n",
            "Trainable params: 23,892,697\n",
            "Non-trainable params: 0\n",
            "_________________________________________________________________\n"
          ]
        }
      ]
    },
    {
      "cell_type": "code",
      "metadata": {
        "id": "qTF2nL9wy8TS"
      },
      "source": [
        "history = model_200_neurons.fit(xtr3,ytr,epochs=2,batch_size=16,validation_data = (xval3,yval),shuffle=True,callbacks=[cb])"
      ],
      "execution_count": null,
      "outputs": []
    },
    {
      "cell_type": "code",
      "metadata": {
        "colab": {
          "base_uri": "https://localhost:8080/"
        },
        "id": "31HvDioFy8TS",
        "outputId": "f3070244-3dbe-4e9c-a1fa-031c707dd8d8"
      },
      "source": [
        "average_epoch_time = Average(cb.times)\n",
        "print(\"Average epoch time:\", average_epoch_time)"
      ],
      "execution_count": 2,
      "outputs": [
        {
          "output_type": "stream",
          "name": "stdout",
          "text": [
            "Average epoch time: 2148.859926836297\n"
          ]
        }
      ]
    },
    {
      "cell_type": "code",
      "metadata": {
        "colab": {
          "base_uri": "https://localhost:8080/"
        },
        "id": "IkdbOVnJy8TS",
        "outputId": "49843b75-bc92-4cd3-db88-1e1de310de09"
      },
      "source": [
        "starttime = time.time()\n",
        "print(\"Test accuracy: \", np.round(model_200_neurons.evaluate(xte3,yte,verbose=0)[1]*100,3),\"%\")\n",
        "endtime = time.time() - starttime"
      ],
      "execution_count": null,
      "outputs": [
        {
          "output_type": "stream",
          "name": "stdout",
          "text": [
            "Test accuracy:  90.053 %\n"
          ]
        }
      ]
    },
    {
      "cell_type": "code",
      "metadata": {
        "colab": {
          "base_uri": "https://localhost:8080/"
        },
        "id": "29oahRRpy8TS",
        "outputId": "516a8a19-4cdb-4ea5-8d6c-188ae28d67e1"
      },
      "source": [
        "starttime = time.time()\n",
        "print(\"Validation accuracy: \", np.round(model_200_neurons.evaluate(xval3,yval,verbose=0)[1]*100,3),\"%\")\n",
        "endtime = time.time() - starttime"
      ],
      "execution_count": null,
      "outputs": [
        {
          "output_type": "stream",
          "name": "stdout",
          "text": [
            "Validation accuracy:  90.4 %\n"
          ]
        }
      ]
    },
    {
      "cell_type": "code",
      "metadata": {
        "colab": {
          "base_uri": "https://localhost:8080/"
        },
        "id": "l5ont3-yy8TS",
        "outputId": "dda6313d-f1b8-4459-d105-43fea4438654"
      },
      "source": [
        "print(\"Average time per prediction:\", endtime/len(xte3))"
      ],
      "execution_count": null,
      "outputs": [
        {
          "output_type": "stream",
          "name": "stdout",
          "text": [
            "Average time per prediction: 0.0006709656079610189\n"
          ]
        }
      ]
    },
    {
      "cell_type": "markdown",
      "metadata": {
        "id": "E5cvUr6V4tEB"
      },
      "source": [
        "## Tuning number of layers"
      ]
    },
    {
      "cell_type": "markdown",
      "metadata": {
        "id": "Oc6LlHVd44jZ"
      },
      "source": [
        "### 2 hidden layers"
      ]
    },
    {
      "cell_type": "code",
      "metadata": {
        "id": "n_dDhS2341Ek"
      },
      "source": [
        "def make_layer_model(layer):\n",
        "  embedding_vecor_length = 768\n",
        "  max_review_length = 400\n",
        "  NUM_WORDS = 30522\n",
        "\n",
        "  tf.keras.backend.clear_session()\n",
        "  model = Sequential()\n",
        "  model.add(Embedding(NUM_WORDS, embedding_vecor_length, input_length=max_review_length))\n",
        "  model.add(Conv1D(filters=100, kernel_size=3, padding='same', activation='relu'))\n",
        "  model.add(MaxPooling1D())\n",
        "  model.add(GRU(100, return_sequences=True))\n",
        "  for i in range(layer):\n",
        "    model.add(GRU(50))\n",
        "  model.add(Dropout(0.5))\n",
        "  # for i in range(layer):\n",
        "  model.add(Dense(100,activation='relu'))\n",
        "  model.add(Flatten())\n",
        "  model.add(Dense(1, activation='sigmoid'))\n",
        "  return model"
      ],
      "execution_count": null,
      "outputs": []
    },
    {
      "cell_type": "code",
      "metadata": {
        "colab": {
          "base_uri": "https://localhost:8080/"
        },
        "id": "dvraiRaY41El",
        "outputId": "c3722bdd-9468-456c-fb2c-5be3893acd8c"
      },
      "source": [
        "model_2_layers = make_layer_model(1)\n",
        "model_2_layers.compile(optimizer='adam', loss='binary_crossentropy',metrics='accuracy')\n",
        "model_2_layers.summary()"
      ],
      "execution_count": null,
      "outputs": [
        {
          "output_type": "stream",
          "name": "stdout",
          "text": [
            "Model: \"sequential\"\n",
            "_________________________________________________________________\n",
            " Layer (type)                Output Shape              Param #   \n",
            "=================================================================\n",
            " embedding (Embedding)       (None, 400, 768)          23440896  \n",
            "                                                                 \n",
            " conv1d (Conv1D)             (None, 400, 100)          230500    \n",
            "                                                                 \n",
            " max_pooling1d (MaxPooling1D  (None, 200, 100)         0         \n",
            " )                                                               \n",
            "                                                                 \n",
            " gru (GRU)                   (None, 200, 100)          60600     \n",
            "                                                                 \n",
            " gru_1 (GRU)                 (None, 50)                22800     \n",
            "                                                                 \n",
            " dropout (Dropout)           (None, 50)                0         \n",
            "                                                                 \n",
            " dense (Dense)               (None, 100)               5100      \n",
            "                                                                 \n",
            " flatten (Flatten)           (None, 100)               0         \n",
            "                                                                 \n",
            " dense_1 (Dense)             (None, 1)                 101       \n",
            "                                                                 \n",
            "=================================================================\n",
            "Total params: 23,759,997\n",
            "Trainable params: 23,759,997\n",
            "Non-trainable params: 0\n",
            "_________________________________________________________________\n"
          ]
        }
      ]
    },
    {
      "cell_type": "code",
      "metadata": {
        "id": "QJ1F4Dw741El"
      },
      "source": [
        "history = model_2_layers.fit(xtr3,ytr,epochs=2,batch_size=16,validation_data = (xval3,yval),shuffle=True,callbacks=[cb])"
      ],
      "execution_count": null,
      "outputs": []
    },
    {
      "cell_type": "code",
      "metadata": {
        "colab": {
          "base_uri": "https://localhost:8080/"
        },
        "id": "gESZiI3j41El",
        "outputId": "7a339a27-faff-43b4-ba27-bbae03beedf8"
      },
      "source": [
        "average_epoch_time = Average(cb.times)\n",
        "print(\"Average epoch time:\", average_epoch_time)"
      ],
      "execution_count": 3,
      "outputs": [
        {
          "output_type": "stream",
          "name": "stdout",
          "text": [
            "Average epoch time: 1308.1409307718277\n"
          ]
        }
      ]
    },
    {
      "cell_type": "code",
      "metadata": {
        "colab": {
          "base_uri": "https://localhost:8080/"
        },
        "id": "IRpRubA_41El",
        "outputId": "61966fea-258f-4fd9-c68d-ce4f4260bd54"
      },
      "source": [
        "starttime = time.time()\n",
        "print(\"Test accuracy: \", np.round(model_2_layers.evaluate(xte3,yte,verbose=0)[1]*100,3),\"%\")\n",
        "endtime = time.time() - starttime"
      ],
      "execution_count": null,
      "outputs": [
        {
          "output_type": "stream",
          "name": "stdout",
          "text": [
            "Test accuracy:  89.333 %\n"
          ]
        }
      ]
    },
    {
      "cell_type": "code",
      "metadata": {
        "colab": {
          "base_uri": "https://localhost:8080/"
        },
        "id": "rOSt6OmL41El",
        "outputId": "750fd29d-8687-42d6-f026-30eafc04e10b"
      },
      "source": [
        "starttime = time.time()\n",
        "print(\"Validation accuracy: \", np.round(model_2_layers.evaluate(xval3,yval,verbose=0)[1]*100,3),\"%\")\n",
        "endtime = time.time() - starttime"
      ],
      "execution_count": null,
      "outputs": [
        {
          "output_type": "stream",
          "name": "stdout",
          "text": [
            "Validation accuracy:  89.373 %\n"
          ]
        }
      ]
    },
    {
      "cell_type": "code",
      "metadata": {
        "colab": {
          "base_uri": "https://localhost:8080/"
        },
        "id": "qh-wSJUB41El",
        "outputId": "543a9c57-a50b-4e75-de99-a109110c7966"
      },
      "source": [
        "print(\"Average time per prediction:\", endtime/len(xte3))"
      ],
      "execution_count": null,
      "outputs": [
        {
          "output_type": "stream",
          "name": "stdout",
          "text": [
            "Average time per prediction: 0.0010443187395731608\n"
          ]
        }
      ]
    },
    {
      "cell_type": "markdown",
      "metadata": {
        "id": "jg7Ct6Yr0Krh"
      },
      "source": [
        "## Keras LSTM with attention"
      ]
    },
    {
      "cell_type": "code",
      "metadata": {
        "id": "XUdkrJxxSjfc"
      },
      "source": [
        "# Add attention layer to the deep learning network\n",
        "class attention(Layer):\n",
        "    def __init__(self,**kwargs):\n",
        "        super(attention,self).__init__(**kwargs)\n",
        " \n",
        "    def build(self,input_shape):\n",
        "        self.W=self.add_weight(name='attention_weight', shape=(input_shape[-1],1), \n",
        "                               initializer='random_normal', trainable=True)\n",
        "        self.b=self.add_weight(name='attention_bias', shape=(input_shape[1],1), \n",
        "                               initializer='zeros', trainable=True)        \n",
        "        super(attention, self).build(input_shape)\n",
        " \n",
        "    def call(self,x):\n",
        "        # Alignment scores. Pass them through tanh function\n",
        "        e = K.tanh(K.dot(x,self.W)+self.b)\n",
        "        # Remove dimension of size 1\n",
        "        e = K.squeeze(e, axis=-1)   \n",
        "        # Compute the weights\n",
        "        alpha = K.softmax(e)\n",
        "        # Reshape to tensorFlow format\n",
        "        alpha = K.expand_dims(alpha, axis=-1)\n",
        "        # Compute the context vector\n",
        "        context = x * alpha\n",
        "        context = K.sum(context, axis=1)\n",
        "        return context"
      ],
      "execution_count": 18,
      "outputs": []
    },
    {
      "cell_type": "code",
      "metadata": {
        "id": "j03mUy8CSjc0",
        "colab": {
          "base_uri": "https://localhost:8080/"
        },
        "outputId": "6e85034b-f0b2-4ea8-9723-bd9a1e48b72e"
      },
      "source": [
        "def myAct(out):\n",
        "    return K.softmax(K.tanh(out))\n",
        "\n",
        "embedding_vecor_length = 768\n",
        "max_review_length = 400\n",
        "NUM_WORDS = 30522\n",
        "\n",
        "tf.keras.backend.clear_session()\n",
        "model = Sequential()\n",
        "model.add(Embedding(NUM_WORDS, embedding_vecor_length, input_length=max_review_length))\n",
        "model.add(Conv1D(filters=100, kernel_size=3, padding='same', activation='relu'))\n",
        "model.add(MaxPooling1D())\n",
        "model.add(GRU(100, return_sequences=False, activation=myAct))\n",
        "# model.add(GRU(50))\n",
        "model.add(Dropout(0.5))\n",
        "model.add(Dense(100,activation='relu'))\n",
        "\n",
        "# model.add(attention())\n",
        "# model.add(Flatten())\n",
        "model.add(Dense(1, activation='sigmoid'))"
      ],
      "execution_count": 51,
      "outputs": [
        {
          "output_type": "stream",
          "name": "stdout",
          "text": [
            "WARNING:tensorflow:Layer gru will not use cuDNN kernels since it doesn't meet the criteria. It will use a generic GPU kernel as fallback when running on GPU.\n"
          ]
        }
      ]
    },
    {
      "cell_type": "code",
      "metadata": {
        "colab": {
          "base_uri": "https://localhost:8080/"
        },
        "id": "WadpfXtP0UtL",
        "outputId": "2dd71f3d-eb15-44d4-d297-070ee880d85b"
      },
      "source": [
        "model.compile(optimizer='adam', loss='binary_crossentropy',metrics='accuracy')\n",
        "model.summary()"
      ],
      "execution_count": 52,
      "outputs": [
        {
          "output_type": "stream",
          "name": "stdout",
          "text": [
            "Model: \"sequential\"\n",
            "_________________________________________________________________\n",
            " Layer (type)                Output Shape              Param #   \n",
            "=================================================================\n",
            " embedding (Embedding)       (None, 400, 768)          23440896  \n",
            "                                                                 \n",
            " conv1d (Conv1D)             (None, 400, 100)          230500    \n",
            "                                                                 \n",
            " max_pooling1d (MaxPooling1D  (None, 200, 100)         0         \n",
            " )                                                               \n",
            "                                                                 \n",
            " gru (GRU)                   (None, 100)               60600     \n",
            "                                                                 \n",
            " dropout (Dropout)           (None, 100)               0         \n",
            "                                                                 \n",
            " dense (Dense)               (None, 100)               10100     \n",
            "                                                                 \n",
            " dense_1 (Dense)             (None, 1)                 101       \n",
            "                                                                 \n",
            "=================================================================\n",
            "Total params: 23,742,197\n",
            "Trainable params: 23,742,197\n",
            "Non-trainable params: 0\n",
            "_________________________________________________________________\n"
          ]
        }
      ]
    },
    {
      "cell_type": "code",
      "metadata": {
        "id": "gsnm0kyl0UrF"
      },
      "source": [
        "class TimeForEpoch(Callback):\n",
        "    def on_train_begin(self, logs={}):\n",
        "        self.times=[]\n",
        "        \n",
        "    def on_epoch_begin(self, epoch, logs={}):\n",
        "        self.starttime = time.time()\n",
        "        \n",
        "    def on_epoch_end(self, epoch, logs={}):\n",
        "        self.times.append(time.time()-self.starttime)\n",
        "\n",
        "cb = TimeForEpoch()"
      ],
      "execution_count": 53,
      "outputs": []
    },
    {
      "cell_type": "code",
      "metadata": {
        "id": "gnXve43dyESp"
      },
      "source": [
        "early_stopping1 = EarlyStopping(monitor='val_loss', patience = 2, mode = 'min')\n",
        "history = model.fit(xtr3,ytr,epochs=2,batch_size=16,validation_data = (xval3,yval),shuffle=True,callbacks=[cb, early_stopping1])"
      ],
      "execution_count": 5,
      "outputs": []
    },
    {
      "cell_type": "code",
      "metadata": {
        "colab": {
          "base_uri": "https://localhost:8080/"
        },
        "id": "d9Sel1Jk5_Ib",
        "outputId": "0dd8e807-ecc4-4a01-e202-29c12e851d5e"
      },
      "source": [
        "def Average(lst):\n",
        "    return sum(lst) / len(lst)\n",
        "\n",
        "average_epoch_time = Average(cb.times)\n",
        "print(\"Average epoch time:\", average_epoch_time)"
      ],
      "execution_count": 4,
      "outputs": [
        {
          "output_type": "stream",
          "name": "stdout",
          "text": [
            "Average epoch time: 1038.546227812767\n"
          ]
        }
      ]
    },
    {
      "cell_type": "code",
      "metadata": {
        "colab": {
          "base_uri": "https://localhost:8080/"
        },
        "id": "srdcOn5u5_Gr",
        "outputId": "68ca201d-500c-4656-f449-a2e750559ece"
      },
      "source": [
        "starttime = time.time()\n",
        "print(\"Accuracy: \", np.round(model.evaluate(xte3,yte,verbose=0)[1]*100,3),\"%\")\n",
        "endtime = time.time() - starttime"
      ],
      "execution_count": null,
      "outputs": [
        {
          "output_type": "stream",
          "name": "stdout",
          "text": [
            "Accuracy:  88.987 %\n"
          ]
        }
      ]
    },
    {
      "cell_type": "code",
      "metadata": {
        "colab": {
          "base_uri": "https://localhost:8080/"
        },
        "id": "iTRodcOwXFQr",
        "outputId": "bb946f71-4114-4a05-b748-11dd7e29a207"
      },
      "source": [
        "starttime = time.time()\n",
        "print(\"Validation accuracy: \", np.round(model.evaluate(xval3,yval,verbose=0)[1]*100,3),\"%\")\n",
        "endtime = time.time() - starttime"
      ],
      "execution_count": null,
      "outputs": [
        {
          "output_type": "stream",
          "name": "stdout",
          "text": [
            "Validation accuracy:  89.067 %\n"
          ]
        }
      ]
    },
    {
      "cell_type": "code",
      "metadata": {
        "colab": {
          "base_uri": "https://localhost:8080/"
        },
        "id": "k9fl9Qk95_EW",
        "outputId": "636a4c08-32be-4a7a-d780-33b73f222a39"
      },
      "source": [
        "print(\"Average time per prediction:\", endtime/len(xte3))"
      ],
      "execution_count": null,
      "outputs": [
        {
          "output_type": "stream",
          "name": "stdout",
          "text": [
            "Average time per prediction: 0.0019438776969909668\n"
          ]
        }
      ]
    }
  ]
}