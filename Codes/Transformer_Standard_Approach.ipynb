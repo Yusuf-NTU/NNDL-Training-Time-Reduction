{
 "cells": [
  {
   "cell_type": "code",
   "execution_count": 21,
   "metadata": {
    "id": "-XeR8Sbz0B5x"
   },
   "outputs": [],
   "source": [
    "import time\n",
    "import datetime\n",
    "import random\n",
    "import gc\n",
    "\n",
    "import pandas as pd\n",
    "import numpy as np\n",
    "\n",
    "import matplotlib.pyplot as plt\n",
    "import seaborn as sns\n",
    "import matplotlib as mpl\n",
    "\n",
    "from transformers import BertTokenizer, DistilBertTokenizer\n",
    "from transformers import AutoConfig\n",
    "from transformers import AutoModelForSequenceClassification\n",
    "from transformers import AdamW\n",
    "from transformers import get_linear_schedule_with_warmup\n",
    "\n",
    "import torch"
   ]
  },
  {
   "cell_type": "markdown",
   "metadata": {
    "id": "Dannu15yD_tu"
   },
   "source": [
    "##Helper Functions"
   ]
  },
  {
   "cell_type": "code",
   "execution_count": 22,
   "metadata": {
    "id": "wJ629yR6I4if"
   },
   "outputs": [],
   "source": [
    "def updating_interval(total_iterations, number_of_desired_updates):\n",
    "    '''\n",
    "    This function will try to pick an intelligent progress update interval \n",
    "    based on the magnitude of the total iterations.\n",
    "\n",
    "    Parameters:\n",
    "      `total_iters` - The number of iterations in the for-loop.\n",
    "      `num_desired_updates` - How many times we want to see an update over the \n",
    "                              course of the for-loop.\n",
    "    '''\n",
    "    \n",
    "    # Divide the total iterations by the desired number of updates.\n",
    "    exact_interval = total_iterations / number_of_desired_updates\n",
    "\n",
    "    # The `round` function has the ability to round down a number to, e.g., the\n",
    "    # nearest thousandth: round(exact_interval, -3)\n",
    "    #\n",
    "    # To determine the magnitude to round to, find the magnitude of the total,\n",
    "    # and then go one magnitude below that.\n",
    "\n",
    "    # Get the order of magnitude of the total.\n",
    "    order_of_magntiude = len(str(total_iterations)) - 1\n",
    "\n",
    "    # Our update interval should be rounded to an order of magnitude smaller. \n",
    "    round_magnitude = order_of_magntiude - 1\n",
    "\n",
    "    # Round down and cast to an int.\n",
    "    update_interval = int(round(exact_interval, -round_magnitude))\n",
    "\n",
    "    # Don't allow the interval to be zero!\n",
    "    if update_interval == 0:\n",
    "        update_interval = 1\n",
    "\n",
    "    return update_interval"
   ]
  },
  {
   "cell_type": "code",
   "execution_count": 23,
   "metadata": {
    "id": "gpt6tR83keZD"
   },
   "outputs": [],
   "source": [
    "def show_time(elapsed_time):\n",
    "    '''\n",
    "    Takes a time in seconds and returns a string hh:mm:ss\n",
    "    '''\n",
    "    # Round to the nearest second.\n",
    "    elapsed_time_rounded = int(round((elapsed_time)))\n",
    "    \n",
    "    # Format as hh:mm:ss\n",
    "    return str(datetime.timedelta(seconds=elapsed_time_rounded))"
   ]
  },
  {
   "cell_type": "code",
   "execution_count": 31,
   "metadata": {
    "id": "6PCbHwTKE976"
   },
   "outputs": [],
   "source": [
    "def extract_data(data):\n",
    "    '''\n",
    "    Extract text and labels in a list\n",
    "    '''\n",
    "    \n",
    "    text = []\n",
    "    labels=[]\n",
    "    \n",
    "    # Iterate over the data\n",
    "    for idx, row in data.iterrows():\n",
    "        # The text is a `bytes` object, decode to string.\n",
    "        text.append(row['clean_text'])\n",
    "\n",
    "        # Cast the label from `np.int64` to `int`\n",
    "        labels.append(int(row['labels']))\n",
    "        \n",
    "    return text, labels"
   ]
  },
  {
   "cell_type": "markdown",
   "metadata": {
    "id": "Cairkv4V7_IE"
   },
   "source": [
    "##Import data"
   ]
  },
  {
   "cell_type": "code",
   "execution_count": 25,
   "metadata": {
    "colab": {
     "base_uri": "https://localhost:8080/"
    },
    "id": "7N6YR1RoFJe_",
    "outputId": "571162da-1416-4573-a616-8feb571c7272"
   },
   "outputs": [
    {
     "name": "stdout",
     "output_type": "stream",
     "text": [
      "Drive already mounted at /content/drive; to attempt to forcibly remount, call drive.mount(\"/content/drive\", force_remount=True).\n"
     ]
    }
   ],
   "source": [
    "from google.colab import drive\n",
    "drive.mount('/content/drive')"
   ]
  },
  {
   "cell_type": "code",
   "execution_count": 26,
   "metadata": {
    "id": "jDhtyywoFJR2"
   },
   "outputs": [],
   "source": [
    "train_data = pd.read_csv('/content/drive/MyDrive/NNDL_Datasets/IMDB_train.csv')\n",
    "test_data = pd.read_csv('/content/drive/MyDrive/NNDL_Datasets/IMDB_test.csv')\n",
    "val_data = pd.read_csv('/content/drive/MyDrive/NNDL_Datasets/IMDB_val.csv')"
   ]
  },
  {
   "cell_type": "code",
   "execution_count": 27,
   "metadata": {
    "id": "gx3aeVLJBuKC"
   },
   "outputs": [],
   "source": [
    "# For YELP data\n",
    "#train_data = pd.read_csv('/content/drive/MyDrive/NNDL_Datasets/YELP_train.csv')\n",
    "#test_data = pd.read_csv('/content/drive/MyDrive/NNDL_Datasets/YELP_test.csv')\n",
    "#val_data = pd.read_csv('/content/drive/MyDrive/NNDL_Datasets/YELP_val.csv')\n",
    "#train_data['labels'] = train_data['labels']-1\n",
    "#test_data['labels'] = test_data['labels']-1\n",
    "#val_data['labels'] = val_data['labels']-1"
   ]
  },
  {
   "cell_type": "markdown",
   "metadata": {
    "id": "Tg9rRznq42f8"
   },
   "source": [
    "## Extract data and see the shape and labels"
   ]
  },
  {
   "cell_type": "code",
   "execution_count": 30,
   "metadata": {
    "colab": {
     "base_uri": "https://localhost:8080/"
    },
    "id": "hQ2_hJjzDYur",
    "outputId": "28293a3d-b818-40a2-da79-8639eadda9b1"
   },
   "outputs": [
    {
     "name": "stdout",
     "output_type": "stream",
     "text": [
      "35,000 Training Samples\n",
      "7,500 Test Samples\n",
      "7,500 Validation Samples\n",
      "Labels: [0 1]\n"
     ]
    }
   ],
   "source": [
    "train_text, train_labels = extract_data(train_data)\n",
    "test_text, test_labels = extract_data(test_data)\n",
    "val_text, val_labels = extract_data(val_data)\n",
    "\n",
    "# Print some stats.\n",
    "print('{:,} Training Samples'.format(len(train_labels)))\n",
    "print('{:,} Test Samples'.format(len(test_labels)))\n",
    "print('{:,} Validation Samples'.format(len(val_labels)))\n",
    "print('Labels:', np.unique(train_labels))"
   ]
  },
  {
   "cell_type": "markdown",
   "metadata": {
    "id": "gObslUje8oNy"
   },
   "source": [
    "## See few examples of review and label"
   ]
  },
  {
   "cell_type": "code",
   "execution_count": 32,
   "metadata": {
    "colab": {
     "base_uri": "https://localhost:8080/"
    },
    "id": "Njp6-5b5NwiE",
    "outputId": "8f8b94d1-0d1d-48e9-f8e2-57a89a38e437"
   },
   "outputs": [
    {
     "name": "stdout",
     "output_type": "stream",
     "text": [
      "Review: john garfield plays marine blinded grenade fighting guadalcanal learn live disability stereotypical notions blindness sure hell burden everyone hospital staff fellow wounded marines cant get neither girl back home played eleanor parker hes stubborn blinded fears self pity prejudices complex role garfield carries memorably great performance keeps one watching spite ever present syrupy melodrama best scenes guadalcanal hes machine gun nest trying fend advancing japanese soldiers hellish looking night time battle later dream sequence hospital sees walking train platform white cane dark glasses holding tin cup girlfriend walks backward away camera\n",
      "Label: 1\n",
      "-----------------\n",
      "Review: saw anatomy years ago dubbed friends house dont remember much saw video store second one really related first one franka ponte makes little cameo one okay good first one im seeing first one tonight dubbed collectors edition really like german movies like one interesting people cults like one movie could exist think dunno grossly entertaining scary anatomy 2 little different characters good first really thought anatomy interesting good see second one\n",
      "Label: 1\n",
      "-----------------\n",
      "Review: smallville episode justice best episode smallville favorite episode smallville\n",
      "Label: 1\n",
      "-----------------\n"
     ]
    }
   ],
   "source": [
    "for i,j in zip(train_text[:3], train_labels[:3]):\n",
    "    print('Review:', i)\n",
    "    print('Label:', j)\n",
    "    print('-----------------')"
   ]
  },
  {
   "cell_type": "markdown",
   "metadata": {
    "id": "hDfRG57sfEjX"
   },
   "source": [
    "## Check class distrubution"
   ]
  },
  {
   "cell_type": "code",
   "execution_count": 33,
   "metadata": {
    "colab": {
     "base_uri": "https://localhost:8080/",
     "height": 698
    },
    "id": "fcBinIxWLjer",
    "outputId": "5eb223ed-9e5f-4e5d-c3f4-5e153b1668d7"
   },
   "outputs": [
    {
     "name": "stderr",
     "output_type": "stream",
     "text": [
      "/usr/local/lib/python3.7/dist-packages/seaborn/_decorators.py:43: FutureWarning: Pass the following variable as a keyword arg: x. From version 0.12, the only valid positional argument will be `data`, and passing other arguments without an explicit keyword will result in an error or misinterpretation.\n",
      "  FutureWarning\n"
     ]
    },
    {
     "data": {
      "image/png": "[encoded data removed]",
      "text/plain": [
       "<Figure size 1080x720 with 1 Axes>"
      ]
     },
     "metadata": {},
     "output_type": "display_data"
    }
   ],
   "source": [
    "sns.set(style='darkgrid')\n",
    "\n",
    "# Increase the plot size and font size.\n",
    "sns.set(font_scale=1.5)\n",
    "plt.rcParams[\"figure.figsize\"] = (15,10)\n",
    "\n",
    "# Plot the number of tokens of each length.\n",
    "ax = sns.countplot(train_labels)\n",
    "\n",
    "# Add labels\n",
    "plt.title('Class Distribution')\n",
    "plt.xlabel('Label')\n",
    "plt.ylabel('Number of Training Samples')\n",
    "\n",
    "# Add thousands separators to the y-axis labels.\n",
    "ax.yaxis.set_major_formatter(mpl.ticker.StrMethodFormatter('{x:,.0f}'))\n",
    "\n",
    "plt.show()"
   ]
  },
  {
   "cell_type": "markdown",
   "metadata": {
    "id": "ydHIQ_yc9ifE"
   },
   "source": [
    "#Smart Batching"
   ]
  },
  {
   "cell_type": "markdown",
   "metadata": {
    "id": "Vuahmt8IGHvG"
   },
   "source": [
    "##Load Tokenizer"
   ]
  },
  {
   "cell_type": "code",
   "execution_count": 34,
   "metadata": {
    "colab": {
     "base_uri": "https://localhost:8080/"
    },
    "id": "Z474sSC6oe7A",
    "outputId": "77c34e79-9221-40af-f032-c89a6c030d8f"
   },
   "outputs": [
    {
     "name": "stdout",
     "output_type": "stream",
     "text": [
      "Loading tokenizer...\n"
     ]
    }
   ],
   "source": [
    "# Load the tokenizer.\n",
    "print('Loading tokenizer...')"
   ]
  },
  {
   "cell_type": "code",
   "execution_count": 35,
   "metadata": {
    "id": "rVmEq4n7F1um"
   },
   "outputs": [],
   "source": [
    "# For BERT model\n",
    "#tokenizer = BertTokenizer.from_pretrained('bert-base-uncased', do_lower_case=True)"
   ]
  },
  {
   "cell_type": "code",
   "execution_count": 36,
   "metadata": {
    "id": "etRvZ5HRF1FF"
   },
   "outputs": [],
   "source": [
    "# For DistilBERT model\n",
    "tokenizer = DistilBertTokenizer.from_pretrained('distilbert-base-uncased', do_lower_case=True)"
   ]
  },
  {
   "cell_type": "markdown",
   "metadata": {
    "id": "DaIlkeK2eDJw"
   },
   "source": [
    "##Fixed Padding"
   ]
  },
  {
   "cell_type": "code",
   "execution_count": 37,
   "metadata": {
    "colab": {
     "base_uri": "https://localhost:8080/"
    },
    "id": "iC1gu9xU5RmR",
    "outputId": "2f4e8986-f0ee-4e58-d887-da90e8b1e1fc"
   },
   "outputs": [
    {
     "name": "stdout",
     "output_type": "stream",
     "text": [
      "Tokenizing 35,000 training samples\n",
      "  Tokenized 0 samples.\n",
      "  Tokenized 2,400 samples.\n",
      "  Tokenized 4,800 samples.\n",
      "  Tokenized 7,200 samples.\n",
      "  Tokenized 9,600 samples.\n",
      "  Tokenized 12,000 samples.\n",
      "  Tokenized 14,400 samples.\n",
      "  Tokenized 16,800 samples.\n",
      "  Tokenized 19,200 samples.\n",
      "  Tokenized 21,600 samples.\n",
      "  Tokenized 24,000 samples.\n",
      "  Tokenized 26,400 samples.\n",
      "  Tokenized 28,800 samples.\n",
      "  Tokenized 31,200 samples.\n",
      "  Tokenized 33,600 samples.\n"
     ]
    }
   ],
   "source": [
    "fixed_padding = True\n",
    "\n",
    "if fixed_padding:\n",
    "\n",
    "    # Specify batch_size and truncation length.    \n",
    "    batch_size = 16\n",
    "    max_len = 400   \n",
    "\n",
    "    # Tokenize all training examples\n",
    "    print('Tokenizing {:,} training samples'.format(len(train_text)))\n",
    "\n",
    "    # Tokenize all of the sentences and map the tokens to thier word IDs.\n",
    "    batches_of_input_ids = []\n",
    "    batches_of_attention_masks = []\n",
    "    batches_of_labels = []\n",
    "\n",
    "    update_interval = batch_size * 150 \n",
    "\n",
    "    # For every sequence\n",
    "    for i in range(0, len(train_text), batch_size):\n",
    "\n",
    "        if ((i % update_interval) == 0):\n",
    "            print('  Tokenized {:,} samples.'.format(i))\n",
    "\n",
    "        # `encode_plus` will:\n",
    "        #   (1) Tokenize the sentence.\n",
    "        #   (2) Prepend the `[CLS]` token to the start.\n",
    "        #   (3) Append the `[SEP]` token to the end.\n",
    "        #   (4) Map tokens to their IDs.\n",
    "        #   (5) Pad or truncate the sentence to `max_length`\n",
    "        #   (6) Create attention masks for [PAD] tokens.\n",
    "        encoded_dict = tokenizer.batch_encode_plus(\n",
    "                            train_text[i:i+batch_size],     # Batch of sentences to encode.\n",
    "                            add_special_tokens = True,      # Add '[CLS]' and '[SEP]'\n",
    "                            max_length = 400,               # Pad & truncate all sentences.\n",
    "                            padding = 'max_length',         # Pad all to the `max_length` parameter.\n",
    "                            truncation = True,\n",
    "                            return_attention_mask = True,   # Construct attn. masks.\n",
    "                            return_tensors = 'pt',          # Return pytorch tensors.\n",
    "                    )\n",
    "        \n",
    "        # Add the encoded sentence to the list.    \n",
    "        batches_of_input_ids.append(encoded_dict['input_ids'])\n",
    "        \n",
    "        # And its attention mask (simply differentiates padding from non-padding).\n",
    "        batches_of_attention_masks.append(encoded_dict['attention_mask'])\n",
    "\n",
    "        # Add the labels for the batch\n",
    "        batches_of_labels.append(torch.tensor(train_labels[i:i+batch_size]))\n",
    "    \n",
    "    # Rename the final variable to match the rest of the code in this Notebook.\n",
    "    py_inputs = batches_of_input_ids\n",
    "    py_attn_masks = batches_of_attention_masks\n",
    "    py_labels = batches_of_labels"
   ]
  },
  {
   "cell_type": "markdown",
   "metadata": {
    "id": "IvuYLP7TDpXH"
   },
   "source": [
    "#Fine-tune Model"
   ]
  },
  {
   "cell_type": "markdown",
   "metadata": {
    "id": "OwdfO8VuxHE-"
   },
   "source": [
    "##Load Configuration and Model"
   ]
  },
  {
   "cell_type": "code",
   "execution_count": 38,
   "metadata": {
    "id": "8GZPd5vWKrpL"
   },
   "outputs": [],
   "source": [
    "# For BERT model\n",
    "\n",
    "# Load the Config object, with an output configured for classification.\n",
    "#config = AutoConfig.from_pretrained(pretrained_model_name_or_path='bert-base-uncased',\n",
    "                                    #num_labels=2)\n",
    "\n",
    "# Load the pre-trained model for classification, passing in the `config` from above.\n",
    "#model = AutoModelForSequenceClassification.from_pretrained(pretrained_model_name_or_path='bert-base-uncased',\n",
    "                                                           #config=config)"
   ]
  },
  {
   "cell_type": "code",
   "execution_count": 39,
   "metadata": {
    "colab": {
     "base_uri": "https://localhost:8080/",
     "height": 153,
     "referenced_widgets": [
      "d6ec7d1ac94947f9b8678032d5106b71",
      "05319887ec6c4e3ca0512f1ea0163cc1",
      "f61d973102ae48a7957113339c2f9e11",
      "0e75fabde26440df803dd90a49aa4059",
      "e6fdcc0a00984f6cb401990c163dbbb5",
      "fa6d44de6beb4c42972262301e1a8d95",
      "3ccc69e78bb44661b4b366160fc36d01",
      "d03b18f7a93f4c7a9effe4ab04b7c961",
      "ea7b5b6109b342a2a74cd7cea8c0090e",
      "1e57098e687a4b71b6e7459d74e124b6",
      "67326933ea5d4962bf6c040100b33a69"
     ]
    },
    "id": "EyWp2fwXHxXT",
    "outputId": "d62ddf4f-672e-4459-b354-3d31f1503f9f"
   },
   "outputs": [
    {
     "data": {
      "application/vnd.jupyter.widget-view+json": {
       "model_id": "d6ec7d1ac94947f9b8678032d5106b71",
       "version_major": 2,
       "version_minor": 0
      },
      "text/plain": [
       "Downloading:   0%|          | 0.00/256M [00:00<?, ?B/s]"
      ]
     },
     "metadata": {},
     "output_type": "display_data"
    },
    {
     "name": "stderr",
     "output_type": "stream",
     "text": [
      "Some weights of the model checkpoint at distilbert-base-uncased were not used when initializing DistilBertForSequenceClassification: ['vocab_projector.bias', 'vocab_projector.weight', 'vocab_layer_norm.weight', 'vocab_layer_norm.bias', 'vocab_transform.weight', 'vocab_transform.bias']\n",
      "- This IS expected if you are initializing DistilBertForSequenceClassification from the checkpoint of a model trained on another task or with another architecture (e.g. initializing a BertForSequenceClassification model from a BertForPreTraining model).\n",
      "- This IS NOT expected if you are initializing DistilBertForSequenceClassification from the checkpoint of a model that you expect to be exactly identical (initializing a BertForSequenceClassification model from a BertForSequenceClassification model).\n",
      "Some weights of DistilBertForSequenceClassification were not initialized from the model checkpoint at distilbert-base-uncased and are newly initialized: ['pre_classifier.weight', 'classifier.bias', 'classifier.weight', 'pre_classifier.bias']\n",
      "You should probably TRAIN this model on a down-stream task to be able to use it for predictions and inference.\n"
     ]
    }
   ],
   "source": [
    "# For DistilBERT model\n",
    "\n",
    "# Load the Config object, with an output configured for classification.\n",
    "config = AutoConfig.from_pretrained(pretrained_model_name_or_path='distilbert-base-uncased',\n",
    "                                    num_labels=2)\n",
    "\n",
    "# Load the pre-trained model for classification, passing in the `config` from above.\n",
    "model = AutoModelForSequenceClassification.from_pretrained(pretrained_model_name_or_path='distilbert-base-uncased',\n",
    "                                                           config=config)"
   ]
  },
  {
   "cell_type": "code",
   "execution_count": 40,
   "metadata": {
    "colab": {
     "base_uri": "https://localhost:8080/"
    },
    "id": "SBkOcKpxhicl",
    "outputId": "1c8289ee-8e16-4470-91e3-76b768933cc0"
   },
   "outputs": [
    {
     "data": {
      "text/plain": [
       "2831"
      ]
     },
     "execution_count": 40,
     "metadata": {},
     "output_type": "execute_result"
    }
   ],
   "source": [
    "# Collect garbage\n",
    "torch.cuda.empty_cache()\n",
    "gc.collect()"
   ]
  },
  {
   "cell_type": "code",
   "execution_count": 41,
   "metadata": {
    "colab": {
     "base_uri": "https://localhost:8080/"
    },
    "id": "Asqmh0uTKuTx",
    "outputId": "9f9b33c1-3625-4113-b3cb-7399f6decae2"
   },
   "outputs": [
    {
     "name": "stdout",
     "output_type": "stream",
     "text": [
      "Loading model to GPU\n",
      "--- GPU: Tesla K80\n",
      "DONE.\n"
     ]
    }
   ],
   "source": [
    "print('Loading model to GPU')\n",
    "\n",
    "device = torch.device('cuda')\n",
    "\n",
    "print('--- GPU:', torch.cuda.get_device_name(0))\n",
    "\n",
    "desc = model.to(device)\n",
    "\n",
    "print('DONE.')"
   ]
  },
  {
   "cell_type": "markdown",
   "metadata": {
    "id": "qRWT-D4U_Pvx"
   },
   "source": [
    "## Setup the optimizer"
   ]
  },
  {
   "cell_type": "code",
   "execution_count": 42,
   "metadata": {
    "id": "GLs72DuMODJO"
   },
   "outputs": [],
   "source": [
    "# AdamW is a class from the huggingface library, 'W' stands for 'Weight Decay fix\"\n",
    "optimizer = AdamW(model.parameters(),\n",
    "                  lr = 5e-5, # Got this value after hyper parameter optimization\n",
    "                )"
   ]
  },
  {
   "cell_type": "markdown",
   "metadata": {
    "id": "z_sAE_K9IHM_"
   },
   "source": [
    "## Set up the scheduler"
   ]
  },
  {
   "cell_type": "code",
   "execution_count": 43,
   "metadata": {
    "id": "-p0upAhhRiIx"
   },
   "outputs": [],
   "source": [
    "epochs = 1\n",
    "\n",
    "# Total number of training steps is [number of batches] x [number of epochs]. \n",
    "# Note that it's the number of *batches*, not *samples*!\n",
    "total_steps = len(py_inputs) * epochs\n",
    "\n",
    "# Create the learning rate scheduler.\n",
    "scheduler = get_linear_schedule_with_warmup(optimizer, \n",
    "                                            num_warmup_steps = 0, # Default value in run_glue.py\n",
    "                                            num_training_steps = total_steps)"
   ]
  },
  {
   "cell_type": "markdown",
   "metadata": {
    "id": "RqfmWwUR_Sox"
   },
   "source": [
    "##Train the model"
   ]
  },
  {
   "cell_type": "code",
   "execution_count": 44,
   "metadata": {
    "colab": {
     "base_uri": "https://localhost:8080/"
    },
    "id": "6J-FYdx6nFE_",
    "outputId": "8beae38d-61b2-42a4-80d5-6949da78c835"
   },
   "outputs": [
    {
     "name": "stdout",
     "output_type": "stream",
     "text": [
      "\n",
      "======== Epoch 1 / 1 ========\n",
      "Training on 2,188 batches\n",
      "  Batch     200  of    2,188.    Elapsed: 0:03:48.\n",
      "  Batch     400  of    2,188.    Elapsed: 0:07:36.\n",
      "  Batch     600  of    2,188.    Elapsed: 0:11:24.\n",
      "  Batch     800  of    2,188.    Elapsed: 0:15:12.\n",
      "  Batch   1,000  of    2,188.    Elapsed: 0:19:01.\n",
      "  Batch   1,200  of    2,188.    Elapsed: 0:22:49.\n",
      "  Batch   1,400  of    2,188.    Elapsed: 0:26:37.\n",
      "  Batch   1,600  of    2,188.    Elapsed: 0:30:25.\n",
      "  Batch   1,800  of    2,188.    Elapsed: 0:34:13.\n",
      "  Batch   2,000  of    2,188.    Elapsed: 0:38:02.\n",
      "\n",
      "  Average training loss: 0.29\n",
      "  Training epcoh took: 0:41:36\n",
      "\n",
      "Training complete!\n",
      "Total training took 0:41:36 (h:mm:ss)\n"
     ]
    }
   ],
   "source": [
    "# This training code is based on the `run_glue.py` script of huggingface.\n",
    "\n",
    "# Set the seed value all over the place to make this reproducible.\n",
    "seed_val = 321\n",
    "\n",
    "random.seed(seed_val)\n",
    "np.random.seed(seed_val)\n",
    "torch.manual_seed(seed_val)\n",
    "torch.cuda.manual_seed_all(seed_val)\n",
    "\n",
    "# We'll store a number of quantities such as training and validation loss, validation accuracy, and timings.\n",
    "training_stats = []\n",
    "\n",
    "# Update every `update_interval` batches.\n",
    "update_interval = updating_interval(total_iterations=len(py_inputs), number_of_desired_updates=10)\n",
    "\n",
    "# Measure the total training time for the whole run.\n",
    "total_t0 = time.time()\n",
    "\n",
    "epochs=1\n",
    "# For each epoch...\n",
    "for epoch_i in range(0, epochs):\n",
    "    \n",
    "    # Perform one full pass over the training set.\n",
    "\n",
    "    print(\"\")\n",
    "    print('======== Epoch {:} / {:} ========'.format(epoch_i + 1, epochs))\n",
    "    \n",
    "    # At the start of each epoch (except for the first) we need to re-randomize our training data.\n",
    "    if epoch_i > 0:\n",
    "        # Use our `make_smart_batches` function to re-shuffle the dataset into new batches.\n",
    "        (py_inputs, py_attn_masks, py_labels) = make_smart_batches(train_text, train_labels, batch_size)\n",
    "    \n",
    "    print('Training on {:,} batches'.format(len(py_inputs)))\n",
    "\n",
    "    # Measure how long the training epoch takes.\n",
    "    t0 = time.time()\n",
    "\n",
    "    # Reset the total loss for this epoch.\n",
    "    total_train_loss = 0\n",
    "\n",
    "    # Put the model into training mode. \n",
    "    model.train()\n",
    "\n",
    "    # For each batch of training data.\n",
    "    for step in range(0, len(py_inputs)):\n",
    "\n",
    "        # Progress update every, e.g., 100 batches.\n",
    "        if step % update_interval == 0 and not step == 0:\n",
    "            # Calculate elapsed time in minutes.\n",
    "            elapsed = show_time(time.time() - t0)\n",
    "            \n",
    "            # Calculate the time remaining based on our progress.\n",
    "            steps_per_sec = (time.time() - t0) / step\n",
    "            remaining_sec = steps_per_sec * (len(py_inputs) - step)\n",
    "\n",
    "            # Report progress.\n",
    "            print('  Batch {:>7,}  of  {:>7,}.    Elapsed: {:}.'.format(step, len(py_inputs), elapsed))\n",
    "\n",
    "        # Copy the current training batch to the GPU using the `to` method.\n",
    "        b_input_ids = py_inputs[step].to(device)\n",
    "        b_input_mask = py_attn_masks[step].to(device)\n",
    "        b_labels = py_labels[step].to(device)\n",
    "\n",
    "        # Always clear any previously calculated gradients before performing a backward pass.\n",
    "        model.zero_grad()        \n",
    "\n",
    "        # Perform a forward pass (evaluate the model on this training batch).\n",
    "        # The call returns the loss (because we provided labels) and the \n",
    "        # \"logits\"--the model outputs prior to activation.\n",
    "        loss, logits = model(b_input_ids, \n",
    "                             attention_mask=b_input_mask, \n",
    "                             labels=b_labels).values()\n",
    "\n",
    "        # Accumulate the training loss over all of the batches so that we can\n",
    "        # calculate the average loss at the end. `loss` is a Tensor containing a\n",
    "        # single value; the `.item()` function just returns the Python value \n",
    "        # from the tensor.\n",
    "        total_train_loss += loss.item()\n",
    "\n",
    "        # Perform a backward pass to calculate the gradients.\n",
    "        loss.backward()\n",
    "\n",
    "        # Clip the norm of the gradients to 1.0.\n",
    "        # This is to help prevent the \"exploding gradients\" problem.\n",
    "        torch.nn.utils.clip_grad_norm_(model.parameters(), 1.0)\n",
    "\n",
    "        # Update parameters and take a step using the computed gradient.\n",
    "        # The optimizer dictates the \"update rule\"--how the parameters are\n",
    "        # modified based on their gradients, the learning rate, etc.\n",
    "        optimizer.step()\n",
    "\n",
    "        # Update the learning rate.\n",
    "        scheduler.step()\n",
    "\n",
    "    # Calculate the average loss over all of the batches.\n",
    "    avg_train_loss = total_train_loss / len(py_inputs)            \n",
    "    \n",
    "    # Measure how long this epoch took.\n",
    "    training_time = show_time(time.time() - t0)\n",
    "\n",
    "    print(\"\")\n",
    "    print(\"  Average training loss: {0:.2f}\".format(avg_train_loss))\n",
    "    print(\"  Training epcoh took: {:}\".format(training_time))\n",
    "        \n",
    "    # Record all statistics from this epoch.\n",
    "    training_stats.append(\n",
    "        {\n",
    "            'epoch': epoch_i + 1,\n",
    "            'Training Loss': avg_train_loss,\n",
    "            'Training Time': training_time,\n",
    "        }\n",
    "    )\n",
    "\n",
    "print(\"\")\n",
    "print(\"Training complete!\")\n",
    "\n",
    "print(\"Total training took {:} (h:mm:ss)\".format(show_time(time.time()-total_t0)))"
   ]
  },
  {
   "cell_type": "markdown",
   "metadata": {
    "id": "_5eZFCVPPn7J"
   },
   "source": [
    "##Evaluating the model on test data"
   ]
  },
  {
   "cell_type": "code",
   "execution_count": 47,
   "metadata": {
    "colab": {
     "base_uri": "https://localhost:8080/"
    },
    "id": "beKYmu9QNGhY",
    "outputId": "c321c74a-bd42-49af-9691-957788f90979"
   },
   "outputs": [
    {
     "name": "stdout",
     "output_type": "stream",
     "text": [
      "Tokenizing 7,500 testing samples\n",
      "  Tokenized 0 samples.\n",
      "  Tokenized 2,400 samples.\n",
      "  Tokenized 4,800 samples.\n",
      "  Tokenized 7,200 samples.\n",
      "Predicting labels for 7,500 test sentences\n",
      "  Batch      50  of      469.    Elapsed: 0:00:21.\n",
      "  Batch     100  of      469.    Elapsed: 0:00:43.\n",
      "  Batch     150  of      469.    Elapsed: 0:01:04.\n",
      "  Batch     200  of      469.    Elapsed: 0:01:25.\n",
      "  Batch     250  of      469.    Elapsed: 0:01:46.\n",
      "  Batch     300  of      469.    Elapsed: 0:02:07.\n",
      "  Batch     350  of      469.    Elapsed: 0:02:29.\n",
      "  Batch     400  of      469.    Elapsed: 0:02:50.\n",
      "  Batch     450  of      469.    Elapsed: 0:03:11.\n",
      "DONE.\n",
      "Accuracy: 0.912\n"
     ]
    }
   ],
   "source": [
    "fixed_padding = True\n",
    "\n",
    "if fixed_padding:\n",
    "\n",
    "    # Specify batch_size and truncation length.    \n",
    "    batch_size = 16\n",
    "    max_len = 400   \n",
    "\n",
    "    # Tokenize all training examples\n",
    "    print('Tokenizing {:,} testing samples'.format(len(test_text)))\n",
    "\n",
    "    # Tokenize all of the sentences and map the tokens to thier word IDs.\n",
    "    batches_of_input_ids = []\n",
    "    batches_of_attention_masks = []\n",
    "    batches_of_labels = []\n",
    "\n",
    "    update_interval = batch_size * 150 \n",
    "\n",
    "    # For every sequence\n",
    "    for i in range(0, len(test_text), batch_size):\n",
    "\n",
    "        if ((i % update_interval) == 0):\n",
    "            print('  Tokenized {:,} samples.'.format(i))\n",
    "\n",
    "        # `encode_plus` will:\n",
    "        #   (1) Tokenize the sentence.\n",
    "        #   (2) Prepend the `[CLS]` token to the start.\n",
    "        #   (3) Append the `[SEP]` token to the end.\n",
    "        #   (4) Map tokens to their IDs.\n",
    "        #   (5) Pad or truncate the sentence to `max_length`\n",
    "        #   (6) Create attention masks for [PAD] tokens.\n",
    "        encoded_dict = tokenizer.batch_encode_plus(\n",
    "                            test_text[i:i+batch_size],     # Batch of sentences to encode.\n",
    "                            add_special_tokens = True,      # Add '[CLS]' and '[SEP]'\n",
    "                            max_length = 400,               # Pad & truncate all sentences.\n",
    "                            padding = 'max_length',         # Pad all to the `max_length` parameter.\n",
    "                            truncation = True,\n",
    "                            return_attention_mask = True,   # Construct attn. masks.\n",
    "                            return_tensors = 'pt',          # Return pytorch tensors.\n",
    "                    )\n",
    "        \n",
    "        # Add the encoded sentence to the list.    \n",
    "        batches_of_input_ids.append(encoded_dict['input_ids'])\n",
    "        \n",
    "        # And its attention mask (simply differentiates padding from non-padding).\n",
    "        batches_of_attention_masks.append(encoded_dict['attention_mask'])\n",
    "\n",
    "        # Add the labels for the batch\n",
    "        batches_of_labels.append(torch.tensor(test_labels[i:i+batch_size]))\n",
    "    \n",
    "    # Rename the final variable to match the rest of the code in this Notebook.\n",
    "    py_inputs = batches_of_input_ids\n",
    "    py_attn_masks = batches_of_attention_masks\n",
    "    py_labels = batches_of_labels\n",
    "\n",
    "# Prediction on test set\n",
    "\n",
    "print('Predicting labels for {:,} test sentences'.format(len(test_labels)))\n",
    "\n",
    "# Put model in evaluation mode\n",
    "model.eval()\n",
    "\n",
    "# Tracking variables \n",
    "predictions , true_labels = [], []\n",
    "\n",
    "# Choose an interval on which to print progress updates.\n",
    "update_interval = updating_interval(total_iterations=len(py_inputs), number_of_desired_updates=10)\n",
    "\n",
    "# Measure elapsed time.\n",
    "t0 = time.time()\n",
    "\n",
    "# For each batch of the data\n",
    "for step in range(0, len(py_inputs)):\n",
    "\n",
    "    # Progress update every 100 batches.\n",
    "    if step % update_interval == 0 and not step == 0:\n",
    "        # Calculate elapsed time in minutes.\n",
    "        elapsed = show_time(time.time() - t0)\n",
    "\n",
    "        # Report progress.\n",
    "        print('  Batch {:>7,}  of  {:>7,}.    Elapsed: {:}.'.format(step, len(py_inputs), elapsed))\n",
    "\n",
    "    # Copy the batch to the GPU.\n",
    "    b_input_ids = py_inputs[step].to(device)\n",
    "    b_input_mask = py_attn_masks[step].to(device)\n",
    "    b_labels = py_labels[step].to(device)\n",
    "  \n",
    "    # Telling the model not to compute or store gradients, saving memory and speeding up prediction\n",
    "    with torch.no_grad():\n",
    "        # Forward pass, calculate logit predictions\n",
    "        outputs = model(b_input_ids, \n",
    "                        attention_mask=b_input_mask)\n",
    "\n",
    "    logits = outputs[0]\n",
    "\n",
    "    # Move logits and labels to CPU\n",
    "    logits = logits.detach().cpu().numpy()\n",
    "    label_ids = b_labels.to('cpu').numpy()\n",
    "  \n",
    "    # Store predictions and true labels\n",
    "    predictions.append(logits)\n",
    "    true_labels.append(label_ids)\n",
    "\n",
    "print('DONE.')\n",
    "\n",
    "# Combine the results across the batches.\n",
    "predictions = np.concatenate(predictions, axis=0)\n",
    "true_labels = np.concatenate(true_labels, axis=0)\n",
    "\n",
    "# Choose the label with the highest score as our prediction.\n",
    "preds = np.argmax(predictions, axis=1).flatten()\n",
    "\n",
    "# Calculate simple flat accuracy -- number correct over total number.\n",
    "accuracy = (preds == true_labels).mean()\n",
    "\n",
    "print('Accuracy: {:.3f}'.format(accuracy))"
   ]
  },
  {
   "cell_type": "markdown",
   "metadata": {
    "id": "2RfSDldsUmKn"
   },
   "source": [
    "##Evaluating the model on validation data"
   ]
  },
  {
   "cell_type": "code",
   "execution_count": 48,
   "metadata": {
    "colab": {
     "base_uri": "https://localhost:8080/"
    },
    "id": "Hba10sXR7Xi6",
    "outputId": "d431f954-bade-4e33-cb43-8263e03dae05"
   },
   "outputs": [
    {
     "name": "stdout",
     "output_type": "stream",
     "text": [
      "Tokenizing 7,500 testing samples\n",
      "  Tokenized 0 samples.\n",
      "  Tokenized 2,400 samples.\n",
      "  Tokenized 4,800 samples.\n",
      "  Tokenized 7,200 samples.\n",
      "Predicting labels for 7,500 test sentences\n",
      "  Batch      50  of      469.    Elapsed: 0:00:21.\n",
      "  Batch     100  of      469.    Elapsed: 0:00:42.\n",
      "  Batch     150  of      469.    Elapsed: 0:01:04.\n",
      "  Batch     200  of      469.    Elapsed: 0:01:25.\n",
      "  Batch     250  of      469.    Elapsed: 0:01:46.\n",
      "  Batch     300  of      469.    Elapsed: 0:02:07.\n",
      "  Batch     350  of      469.    Elapsed: 0:02:29.\n",
      "  Batch     400  of      469.    Elapsed: 0:02:50.\n",
      "  Batch     450  of      469.    Elapsed: 0:03:11.\n",
      "DONE.\n",
      "Accuracy: 0.910\n"
     ]
    }
   ],
   "source": [
    "fixed_padding = True\n",
    "\n",
    "if fixed_padding:\n",
    "\n",
    "    # Specify batch_size and truncation length.    \n",
    "    batch_size = 16\n",
    "    max_len = 400   \n",
    "\n",
    "    # Tokenize all training examples\n",
    "    print('Tokenizing {:,} testing samples'.format(len(val_text)))\n",
    "\n",
    "    # Tokenize all of the sentences and map the tokens to thier word IDs.\n",
    "    batches_of_input_ids = []\n",
    "    batches_of_attention_masks = []\n",
    "    batches_of_labels = []\n",
    "\n",
    "    update_interval = batch_size * 150 \n",
    "\n",
    "    # For every sequence\n",
    "    for i in range(0, len(val_text), batch_size):\n",
    "\n",
    "        if ((i % update_interval) == 0):\n",
    "            print('  Tokenized {:,} samples.'.format(i))\n",
    "\n",
    "        # `encode_plus` will:\n",
    "        #   (1) Tokenize the sentence.\n",
    "        #   (2) Prepend the `[CLS]` token to the start.\n",
    "        #   (3) Append the `[SEP]` token to the end.\n",
    "        #   (4) Map tokens to their IDs.\n",
    "        #   (5) Pad or truncate the sentence to `max_length`\n",
    "        #   (6) Create attention masks for [PAD] tokens.\n",
    "        encoded_dict = tokenizer.batch_encode_plus(\n",
    "                            val_text[i:i+batch_size],     # Batch of sentences to encode.\n",
    "                            add_special_tokens = True,      # Add '[CLS]' and '[SEP]'\n",
    "                            max_length = 400,               # Pad & truncate all sentences.\n",
    "                            padding = 'max_length',         # Pad all to the `max_length` parameter.\n",
    "                            truncation = True,\n",
    "                            return_attention_mask = True,   # Construct attn. masks.\n",
    "                            return_tensors = 'pt',          # Return pytorch tensors.\n",
    "                    )\n",
    "        \n",
    "        # Add the encoded sentence to the list.    \n",
    "        batches_of_input_ids.append(encoded_dict['input_ids'])\n",
    "        \n",
    "        # And its attention mask (simply differentiates padding from non-padding).\n",
    "        batches_of_attention_masks.append(encoded_dict['attention_mask'])\n",
    "\n",
    "        # Add the labels for the batch\n",
    "        batches_of_labels.append(torch.tensor(val_labels[i:i+batch_size]))\n",
    "    \n",
    "    # Rename the final variable to match the rest of the code in this Notebook.\n",
    "    py_inputs = batches_of_input_ids\n",
    "    py_attn_masks = batches_of_attention_masks\n",
    "    py_labels = batches_of_labels\n",
    "\n",
    "# Prediction on test set\n",
    "\n",
    "print('Predicting labels for {:,} test sentences'.format(len(val_labels)))\n",
    "\n",
    "# Put model in evaluation mode\n",
    "model.eval()\n",
    "\n",
    "# Tracking variables \n",
    "predictions , true_labels = [], []\n",
    "\n",
    "# Choose an interval on which to print progress updates.\n",
    "update_interval = updating_interval(total_iterations=len(py_inputs), number_of_desired_updates=10)\n",
    "\n",
    "# Measure elapsed time.\n",
    "t0 = time.time()\n",
    "\n",
    "# For each batch of the data\n",
    "for step in range(0, len(py_inputs)):\n",
    "\n",
    "    # Progress update every 100 batches.\n",
    "    if step % update_interval == 0 and not step == 0:\n",
    "        # Calculate elapsed time in minutes.\n",
    "        elapsed = show_time(time.time() - t0)\n",
    "\n",
    "        # Report progress.\n",
    "        print('  Batch {:>7,}  of  {:>7,}.    Elapsed: {:}.'.format(step, len(py_inputs), elapsed))\n",
    "\n",
    "    # Copy the batch to the GPU.\n",
    "    b_input_ids = py_inputs[step].to(device)\n",
    "    b_input_mask = py_attn_masks[step].to(device)\n",
    "    b_labels = py_labels[step].to(device)\n",
    "  \n",
    "    # Telling the model not to compute or store gradients, saving memory and speeding up prediction\n",
    "    with torch.no_grad():\n",
    "        # Forward pass, calculate logit predictions\n",
    "        outputs = model(b_input_ids, \n",
    "                        attention_mask=b_input_mask)\n",
    "\n",
    "    logits = outputs[0]\n",
    "\n",
    "    # Move logits and labels to CPU\n",
    "    logits = logits.detach().cpu().numpy()\n",
    "    label_ids = b_labels.to('cpu').numpy()\n",
    "  \n",
    "    # Store predictions and true labels\n",
    "    predictions.append(logits)\n",
    "    true_labels.append(label_ids)\n",
    "\n",
    "print('DONE.')\n",
    "\n",
    "# Combine the results across the batches.\n",
    "predictions = np.concatenate(predictions, axis=0)\n",
    "true_labels = np.concatenate(true_labels, axis=0)\n",
    "\n",
    "# Choose the label with the highest score as our prediction.\n",
    "preds = np.argmax(predictions, axis=1).flatten()\n",
    "\n",
    "# Calculate simple flat accuracy -- number correct over total number.\n",
    "accuracy = (preds == true_labels).mean()\n",
    "\n",
    "print('Accuracy: {:.3f}'.format(accuracy))"
   ]
  },
  {
   "cell_type": "markdown",
   "metadata": {
    "id": "eCqhHHtXKIyV"
   },
   "source": [
    "## Count Parameters"
   ]
  },
  {
   "cell_type": "code",
   "execution_count": 49,
   "metadata": {
    "colab": {
     "base_uri": "https://localhost:8080/"
    },
    "id": "Hv8pz2ZpSODC",
    "outputId": "d1aaf6e4-0b87-4a20-9a60-ec6128ce85f5"
   },
   "outputs": [
    {
     "name": "stdout",
     "output_type": "stream",
     "text": [
      "66955010\n"
     ]
    }
   ],
   "source": [
    "def count_parameters(model):\n",
    "  return sum(p.numel() for p in model.parameters() if p.requires_grad)\n",
    "\n",
    "print(count_parameters(model))"
   ]
  }
 ],
 "metadata": {
  "accelerator": "GPU",
  "colab": {
   "collapsed_sections": [],
   "name": "Transformer Standard Approach",
   "provenance": []
  },
  "kernelspec": {
   "display_name": "Python 3",
   "language": "python",
   "name": "python3"
  },
  "language_info": {
   "codemirror_mode": {
    "name": "ipython",
    "version": 3
   },
   "file_extension": ".py",
   "mimetype": "text/x-python",
   "name": "python",
   "nbconvert_exporter": "python",
   "pygments_lexer": "ipython3",
   "version": "3.8.3"
  },
  "widgets": {
   "application/vnd.jupyter.widget-state+json": {
    "05319887ec6c4e3ca0512f1ea0163cc1": {
     "model_module": "@jupyter-widgets/base",
     "model_module_version": "1.2.0",
     "model_name": "LayoutModel",
     "state": {
      "_model_module": "@jupyter-widgets/base",
      "_model_module_version": "1.2.0",
      "_model_name": "LayoutModel",
      "_view_count": null,
      "_view_module": "@jupyter-widgets/base",
      "_view_module_version": "1.2.0",
      "_view_name": "LayoutView",
      "align_content": null,
      "align_items": null,
      "align_self": null,
      "border": null,
      "bottom": null,
      "display": null,
      "flex": null,
      "flex_flow": null,
      "grid_area": null,
      "grid_auto_columns": null,
      "grid_auto_flow": null,
      "grid_auto_rows": null,
      "grid_column": null,
      "grid_gap": null,
      "grid_row": null,
      "grid_template_areas": null,
      "grid_template_columns": null,
      "grid_template_rows": null,
      "height": null,
      "justify_content": null,
      "justify_items": null,
      "left": null,
      "margin": null,
      "max_height": null,
      "max_width": null,
      "min_height": null,
      "min_width": null,
      "object_fit": null,
      "object_position": null,
      "order": null,
      "overflow": null,
      "overflow_x": null,
      "overflow_y": null,
      "padding": null,
      "right": null,
      "top": null,
      "visibility": null,
      "width": null
     }
    },
    "0e75fabde26440df803dd90a49aa4059": {
     "model_module": "@jupyter-widgets/controls",
     "model_module_version": "1.5.0",
     "model_name": "FloatProgressModel",
     "state": {
      "_dom_classes": [],
      "_model_module": "@jupyter-widgets/controls",
      "_model_module_version": "1.5.0",
      "_model_name": "FloatProgressModel",
      "_view_count": null,
      "_view_module": "@jupyter-widgets/controls",
      "_view_module_version": "1.5.0",
      "_view_name": "ProgressView",
      "bar_style": "success",
      "description": "",
      "description_tooltip": null,
      "layout": "IPY_MODEL_ea7b5b6109b342a2a74cd7cea8c0090e",
      "max": 267967963,
      "min": 0,
      "orientation": "horizontal",
      "style": "IPY_MODEL_d03b18f7a93f4c7a9effe4ab04b7c961",
      "value": 267967963
     }
    },
    "1e57098e687a4b71b6e7459d74e124b6": {
     "model_module": "@jupyter-widgets/controls",
     "model_module_version": "1.5.0",
     "model_name": "DescriptionStyleModel",
     "state": {
      "_model_module": "@jupyter-widgets/controls",
      "_model_module_version": "1.5.0",
      "_model_name": "DescriptionStyleModel",
      "_view_count": null,
      "_view_module": "@jupyter-widgets/base",
      "_view_module_version": "1.2.0",
      "_view_name": "StyleView",
      "description_width": ""
     }
    },
    "3ccc69e78bb44661b4b366160fc36d01": {
     "model_module": "@jupyter-widgets/base",
     "model_module_version": "1.2.0",
     "model_name": "LayoutModel",
     "state": {
      "_model_module": "@jupyter-widgets/base",
      "_model_module_version": "1.2.0",
      "_model_name": "LayoutModel",
      "_view_count": null,
      "_view_module": "@jupyter-widgets/base",
      "_view_module_version": "1.2.0",
      "_view_name": "LayoutView",
      "align_content": null,
      "align_items": null,
      "align_self": null,
      "border": null,
      "bottom": null,
      "display": null,
      "flex": null,
      "flex_flow": null,
      "grid_area": null,
      "grid_auto_columns": null,
      "grid_auto_flow": null,
      "grid_auto_rows": null,
      "grid_column": null,
      "grid_gap": null,
      "grid_row": null,
      "grid_template_areas": null,
      "grid_template_columns": null,
      "grid_template_rows": null,
      "height": null,
      "justify_content": null,
      "justify_items": null,
      "left": null,
      "margin": null,
      "max_height": null,
      "max_width": null,
      "min_height": null,
      "min_width": null,
      "object_fit": null,
      "object_position": null,
      "order": null,
      "overflow": null,
      "overflow_x": null,
      "overflow_y": null,
      "padding": null,
      "right": null,
      "top": null,
      "visibility": null,
      "width": null
     }
    },
    "67326933ea5d4962bf6c040100b33a69": {
     "model_module": "@jupyter-widgets/base",
     "model_module_version": "1.2.0",
     "model_name": "LayoutModel",
     "state": {
      "_model_module": "@jupyter-widgets/base",
      "_model_module_version": "1.2.0",
      "_model_name": "LayoutModel",
      "_view_count": null,
      "_view_module": "@jupyter-widgets/base",
      "_view_module_version": "1.2.0",
      "_view_name": "LayoutView",
      "align_content": null,
      "align_items": null,
      "align_self": null,
      "border": null,
      "bottom": null,
      "display": null,
      "flex": null,
      "flex_flow": null,
      "grid_area": null,
      "grid_auto_columns": null,
      "grid_auto_flow": null,
      "grid_auto_rows": null,
      "grid_column": null,
      "grid_gap": null,
      "grid_row": null,
      "grid_template_areas": null,
      "grid_template_columns": null,
      "grid_template_rows": null,
      "height": null,
      "justify_content": null,
      "justify_items": null,
      "left": null,
      "margin": null,
      "max_height": null,
      "max_width": null,
      "min_height": null,
      "min_width": null,
      "object_fit": null,
      "object_position": null,
      "order": null,
      "overflow": null,
      "overflow_x": null,
      "overflow_y": null,
      "padding": null,
      "right": null,
      "top": null,
      "visibility": null,
      "width": null
     }
    },
    "d03b18f7a93f4c7a9effe4ab04b7c961": {
     "model_module": "@jupyter-widgets/controls",
     "model_module_version": "1.5.0",
     "model_name": "ProgressStyleModel",
     "state": {
      "_model_module": "@jupyter-widgets/controls",
      "_model_module_version": "1.5.0",
      "_model_name": "ProgressStyleModel",
      "_view_count": null,
      "_view_module": "@jupyter-widgets/base",
      "_view_module_version": "1.2.0",
      "_view_name": "StyleView",
      "bar_color": null,
      "description_width": ""
     }
    },
    "d6ec7d1ac94947f9b8678032d5106b71": {
     "model_module": "@jupyter-widgets/controls",
     "model_module_version": "1.5.0",
     "model_name": "HBoxModel",
     "state": {
      "_dom_classes": [],
      "_model_module": "@jupyter-widgets/controls",
      "_model_module_version": "1.5.0",
      "_model_name": "HBoxModel",
      "_view_count": null,
      "_view_module": "@jupyter-widgets/controls",
      "_view_module_version": "1.5.0",
      "_view_name": "HBoxView",
      "box_style": "",
      "children": [
       "IPY_MODEL_f61d973102ae48a7957113339c2f9e11",
       "IPY_MODEL_0e75fabde26440df803dd90a49aa4059",
       "IPY_MODEL_e6fdcc0a00984f6cb401990c163dbbb5"
      ],
      "layout": "IPY_MODEL_05319887ec6c4e3ca0512f1ea0163cc1"
     }
    },
    "e6fdcc0a00984f6cb401990c163dbbb5": {
     "model_module": "@jupyter-widgets/controls",
     "model_module_version": "1.5.0",
     "model_name": "HTMLModel",
     "state": {
      "_dom_classes": [],
      "_model_module": "@jupyter-widgets/controls",
      "_model_module_version": "1.5.0",
      "_model_name": "HTMLModel",
      "_view_count": null,
      "_view_module": "@jupyter-widgets/controls",
      "_view_module_version": "1.5.0",
      "_view_name": "HTMLView",
      "description": "",
      "description_tooltip": null,
      "layout": "IPY_MODEL_67326933ea5d4962bf6c040100b33a69",
      "placeholder": "​",
      "style": "IPY_MODEL_1e57098e687a4b71b6e7459d74e124b6",
      "value": " 256M/256M [00:08&lt;00:00, 34.3MB/s]"
     }
    },
    "ea7b5b6109b342a2a74cd7cea8c0090e": {
     "model_module": "@jupyter-widgets/base",
     "model_module_version": "1.2.0",
     "model_name": "LayoutModel",
     "state": {
      "_model_module": "@jupyter-widgets/base",
      "_model_module_version": "1.2.0",
      "_model_name": "LayoutModel",
      "_view_count": null,
      "_view_module": "@jupyter-widgets/base",
      "_view_module_version": "1.2.0",
      "_view_name": "LayoutView",
      "align_content": null,
      "align_items": null,
      "align_self": null,
      "border": null,
      "bottom": null,
      "display": null,
      "flex": null,
      "flex_flow": null,
      "grid_area": null,
      "grid_auto_columns": null,
      "grid_auto_flow": null,
      "grid_auto_rows": null,
      "grid_column": null,
      "grid_gap": null,
      "grid_row": null,
      "grid_template_areas": null,
      "grid_template_columns": null,
      "grid_template_rows": null,
      "height": null,
      "justify_content": null,
      "justify_items": null,
      "left": null,
      "margin": null,
      "max_height": null,
      "max_width": null,
      "min_height": null,
      "min_width": null,
      "object_fit": null,
      "object_position": null,
      "order": null,
      "overflow": null,
      "overflow_x": null,
      "overflow_y": null,
      "padding": null,
      "right": null,
      "top": null,
      "visibility": null,
      "width": null
     }
    },
    "f61d973102ae48a7957113339c2f9e11": {
     "model_module": "@jupyter-widgets/controls",
     "model_module_version": "1.5.0",
     "model_name": "HTMLModel",
     "state": {
      "_dom_classes": [],
      "_model_module": "@jupyter-widgets/controls",
      "_model_module_version": "1.5.0",
      "_model_name": "HTMLModel",
      "_view_count": null,
      "_view_module": "@jupyter-widgets/controls",
      "_view_module_version": "1.5.0",
      "_view_name": "HTMLView",
      "description": "",
      "description_tooltip": null,
      "layout": "IPY_MODEL_3ccc69e78bb44661b4b366160fc36d01",
      "placeholder": "​",
      "style": "IPY_MODEL_fa6d44de6beb4c42972262301e1a8d95",
      "value": "Downloading: 100%"
     }
    },
    "fa6d44de6beb4c42972262301e1a8d95": {
     "model_module": "@jupyter-widgets/controls",
     "model_module_version": "1.5.0",
     "model_name": "DescriptionStyleModel",
     "state": {
      "_model_module": "@jupyter-widgets/controls",
      "_model_module_version": "1.5.0",
      "_model_name": "DescriptionStyleModel",
      "_view_count": null,
      "_view_module": "@jupyter-widgets/base",
      "_view_module_version": "1.2.0",
      "_view_name": "StyleView",
      "description_width": ""
     }
    }
   }
  }
 },
 "nbformat": 4,
 "nbformat_minor": 1
}
