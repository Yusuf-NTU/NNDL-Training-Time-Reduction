{
  "nbformat": 4,
  "nbformat_minor": 0,
  "metadata": {
    "colab": {
      "name": "Yelp RNN (NNDL).ipynb",
      "provenance": [],
      "collapsed_sections": []
    },
    "kernelspec": {
      "name": "python3",
      "display_name": "Python 3"
    },
    "language_info": {
      "name": "python"
    },
    "accelerator": "GPU"
  },
  "cells": [
    {
      "cell_type": "code",
      "metadata": {
        "id": "GmV54Mu2b8PH"
      },
      "source": [
        "from tensorflow.keras.datasets import imdb\n",
        "from tensorflow.keras.layers import *\n",
        "from tensorflow.keras.models import *\n",
        "from tensorflow.keras.datasets import mnist\n",
        "from tensorflow.keras.utils import to_categorical\n",
        "from tensorflow.keras.optimizers import *\n",
        "from tensorflow.keras.preprocessing.text import Tokenizer as tk\n",
        "from tensorflow.keras.callbacks import Callback\n",
        "import tensorflow.keras.backend as K\n",
        "from sklearn.preprocessing import LabelEncoder\n",
        "from sklearn.model_selection import train_test_split\n",
        "from tensorflow.keras.preprocessing.sequence import pad_sequences\n",
        "import tensorflow as tf\n",
        "import numpy as np\n",
        "import pandas as pd\n",
        "import time\n",
        "import csv"
      ],
      "execution_count": 4,
      "outputs": []
    },
    {
      "cell_type": "code",
      "metadata": {
        "id": "LDpXkgFccD0M"
      },
      "source": [
        "df_train = pd.read_csv('./YELP_train.csv', encoding = \"ISO-8859-1\")\n",
        "df_test = pd.read_csv('./YELP_test.csv')\n",
        "df_val = pd.read_csv('./YELP_val.csv')"
      ],
      "execution_count": 3,
      "outputs": []
    },
    {
      "cell_type": "code",
      "metadata": {
        "id": "8tqN1muxmo9K",
        "colab": {
          "base_uri": "https://localhost:8080/",
          "height": 204
        },
        "outputId": "94c492ae-e764-4f22-8060-df86b4cc72c5"
      },
      "source": [
        "df_train.head()"
      ],
      "execution_count": 4,
      "outputs": [
        {
          "output_type": "execute_result",
          "data": {
            "text/html": [
              "<div>\n",
              "<style scoped>\n",
              "    .dataframe tbody tr th:only-of-type {\n",
              "        vertical-align: middle;\n",
              "    }\n",
              "\n",
              "    .dataframe tbody tr th {\n",
              "        vertical-align: top;\n",
              "    }\n",
              "\n",
              "    .dataframe thead th {\n",
              "        text-align: right;\n",
              "    }\n",
              "</style>\n",
              "<table border=\"1\" class=\"dataframe\">\n",
              "  <thead>\n",
              "    <tr style=\"text-align: right;\">\n",
              "      <th></th>\n",
              "      <th>review</th>\n",
              "      <th>label</th>\n",
              "    </tr>\n",
              "  </thead>\n",
              "  <tbody>\n",
              "    <tr>\n",
              "      <th>0</th>\n",
              "      <td>Excellent studio! Jodi is an amazing instructo...</td>\n",
              "      <td>2</td>\n",
              "    </tr>\n",
              "    <tr>\n",
              "      <th>1</th>\n",
              "      <td>Delycios</td>\n",
              "      <td>2</td>\n",
              "    </tr>\n",
              "    <tr>\n",
              "      <th>2</th>\n",
              "      <td>I used to like this place despite the fact tha...</td>\n",
              "      <td>1</td>\n",
              "    </tr>\n",
              "    <tr>\n",
              "      <th>3</th>\n",
              "      <td>I had the whole house done last April.  They d...</td>\n",
              "      <td>2</td>\n",
              "    </tr>\n",
              "    <tr>\n",
              "      <th>4</th>\n",
              "      <td>I know, I know, another rave review for St. Fr...</td>\n",
              "      <td>2</td>\n",
              "    </tr>\n",
              "  </tbody>\n",
              "</table>\n",
              "</div>"
            ],
            "text/plain": [
              "                                              review  label\n",
              "0  Excellent studio! Jodi is an amazing instructo...      2\n",
              "1                                           Delycios      2\n",
              "2  I used to like this place despite the fact tha...      1\n",
              "3  I had the whole house done last April.  They d...      2\n",
              "4  I know, I know, another rave review for St. Fr...      2"
            ]
          },
          "metadata": {},
          "execution_count": 4
        }
      ]
    },
    {
      "cell_type": "code",
      "metadata": {
        "colab": {
          "base_uri": "https://localhost:8080/"
        },
        "id": "QDEFS1VkfFBr",
        "outputId": "54a6166b-e86b-4358-91f4-29cfb98d7f99"
      },
      "source": [
        "df_train[\"label\"].value_counts()"
      ],
      "execution_count": 5,
      "outputs": [
        {
          "output_type": "execute_result",
          "data": {
            "text/plain": [
              "1    52561\n",
              "2    52439\n",
              "Name: label, dtype: int64"
            ]
          },
          "metadata": {},
          "execution_count": 5
        }
      ]
    },
    {
      "cell_type": "code",
      "metadata": {
        "id": "r0OLHNCwcSP2"
      },
      "source": [
        "X_train = np.array(df_train.drop(columns=['label'])).reshape(len(df_train),)\n",
        "y_train = np.array(df_train['label'])\n",
        "\n",
        "X_test = np.array(df_test.drop(columns=['label'])).reshape(len(df_test),)\n",
        "y_test = np.array(df_test['label'])\n",
        "\n",
        "X_val = np.array(df_val.drop(columns=['label'])).reshape(len(df_val),)\n",
        "y_val = np.array(df_val['label'])"
      ],
      "execution_count": 7,
      "outputs": []
    },
    {
      "cell_type": "code",
      "metadata": {
        "id": "bcogyTW4cSSF"
      },
      "source": [
        "xtr = X_train\n",
        "ytr = y_train\n",
        "\n",
        "xte = X_test\n",
        "yte = y_test\n",
        "\n",
        "xval = X_val\n",
        "yval = y_val"
      ],
      "execution_count": 8,
      "outputs": []
    },
    {
      "cell_type": "code",
      "metadata": {
        "id": "-VjXTsPPcSUQ"
      },
      "source": [
        "tok=tk(num_words=30522, filters='!\"#$%&()*+,-./:;<=>?@[\\\\]^_`{|}~\\t\\n',lower=True, split=' ',char_level=False, oov_token='Farid')"
      ],
      "execution_count": 9,
      "outputs": []
    },
    {
      "cell_type": "code",
      "metadata": {
        "id": "w_9QIIPbcSWb"
      },
      "source": [
        "tok.fit_on_texts(xtr)"
      ],
      "execution_count": 10,
      "outputs": []
    },
    {
      "cell_type": "code",
      "metadata": {
        "id": "_CEmuqbJcSY7"
      },
      "source": [
        "xtr1 = tok.texts_to_sequences(xtr)\n",
        "xte1 = tok.texts_to_sequences(xte)\n",
        "xval1 = tok.texts_to_sequences(xval)"
      ],
      "execution_count": 11,
      "outputs": []
    },
    {
      "cell_type": "code",
      "metadata": {
        "id": "dqrcdU8uca3W"
      },
      "source": [
        "sequence_len = 400\n",
        "xtr2 = pad_sequences(xtr1,sequence_len, padding='post',truncating='post')\n",
        "xte2 = pad_sequences(xte1,sequence_len, padding='post', truncating='post')\n",
        "xval2 = pad_sequences(xval1,sequence_len, padding='post', truncating='post')"
      ],
      "execution_count": 12,
      "outputs": []
    },
    {
      "cell_type": "code",
      "metadata": {
        "colab": {
          "base_uri": "https://localhost:8080/"
        },
        "id": "nSjN5-djx4HY",
        "outputId": "40c4732b-0c0c-486b-ae0b-10fa09b8cf87"
      },
      "source": [
        "xtr2"
      ],
      "execution_count": 13,
      "outputs": [
        {
          "output_type": "execute_result",
          "data": {
            "text/plain": [
              "array([[  334,  2262, 18533, ...,     0,     0,     0],\n",
              "       [    1,     0,     0, ...,     0,     0,     0],\n",
              "       [    4,   301,     5, ...,     0,     0,     0],\n",
              "       ...,\n",
              "       [   17,    32,    12, ...,     0,     0,     0],\n",
              "       [   56,   120,   735, ...,     3,     2,   182],\n",
              "       [ 1278,   127,    14, ...,     0,     0,     0]], dtype=int32)"
            ]
          },
          "metadata": {},
          "execution_count": 13
        }
      ]
    },
    {
      "cell_type": "code",
      "metadata": {
        "id": "gdomwL-Tca5b"
      },
      "source": [
        "xtr3 = np.flip(xtr2, 1)\n",
        "xte3 = np.flip(xte2, 1)\n",
        "xval3 = np.flip(xval2, 1)"
      ],
      "execution_count": 14,
      "outputs": []
    },
    {
      "cell_type": "code",
      "metadata": {
        "colab": {
          "base_uri": "https://localhost:8080/"
        },
        "id": "sKBaWXu_ca7U",
        "outputId": "4e8cda5d-1781-42e8-beb2-7800d4acca65"
      },
      "source": [
        "print(xtr3.shape)\n",
        "print(xte3.shape)\n",
        "print(xval3.shape)"
      ],
      "execution_count": 15,
      "outputs": [
        {
          "output_type": "stream",
          "name": "stdout",
          "text": [
            "(105000, 400)\n",
            "(22500, 400)\n",
            "(22500, 400)\n"
          ]
        }
      ]
    },
    {
      "cell_type": "markdown",
      "metadata": {
        "id": "7pLxbR0smPCy"
      },
      "source": [
        "## Training base model"
      ]
    },
    {
      "cell_type": "code",
      "metadata": {
        "id": "kZLNYvS0ca9W"
      },
      "source": [
        "embedding_vecor_length = 768\n",
        "max_review_length = 400\n",
        "NUM_WORDS = 30522\n",
        "\n",
        "tf.keras.backend.clear_session()\n",
        "model = Sequential()\n",
        "model.add(Embedding(NUM_WORDS, embedding_vecor_length, input_length=max_review_length))\n",
        "model.add(Conv1D(filters=100, kernel_size=3, padding='same', activation='relu'))\n",
        "model.add(MaxPooling1D())\n",
        "model.add(GRU(50, return_sequences=True))\n",
        "# model.add(GRU(50))\n",
        "model.add(Dropout(0.5))\n",
        "model.add(Dense(100,activation='relu'))\n",
        "model.add(Flatten())\n",
        "model.add(Dense(1, activation='sigmoid'))"
      ],
      "execution_count": null,
      "outputs": []
    },
    {
      "cell_type": "code",
      "metadata": {
        "colab": {
          "base_uri": "https://localhost:8080/"
        },
        "id": "3rBfiRPNca_H",
        "outputId": "4ea07164-da25-4480-87eb-cd0b006ae837"
      },
      "source": [
        "model.compile(optimizer='adam', loss='binary_crossentropy',metrics='accuracy')\n",
        "model.summary()"
      ],
      "execution_count": null,
      "outputs": [
        {
          "output_type": "stream",
          "name": "stdout",
          "text": [
            "Model: \"sequential\"\n",
            "_________________________________________________________________\n",
            " Layer (type)                Output Shape              Param #   \n",
            "=================================================================\n",
            " embedding (Embedding)       (None, 400, 768)          23440896  \n",
            "                                                                 \n",
            " conv1d (Conv1D)             (None, 400, 100)          230500    \n",
            "                                                                 \n",
            " max_pooling1d (MaxPooling1D  (None, 200, 100)         0         \n",
            " )                                                               \n",
            "                                                                 \n",
            " gru (GRU)                   (None, 200, 50)           22800     \n",
            "                                                                 \n",
            " dropout (Dropout)           (None, 200, 50)           0         \n",
            "                                                                 \n",
            " dense (Dense)               (None, 200, 100)          5100      \n",
            "                                                                 \n",
            " flatten (Flatten)           (None, 20000)             0         \n",
            "                                                                 \n",
            " dense_1 (Dense)             (None, 1)                 20001     \n",
            "                                                                 \n",
            "=================================================================\n",
            "Total params: 23,719,297\n",
            "Trainable params: 23,719,297\n",
            "Non-trainable params: 0\n",
            "_________________________________________________________________\n"
          ]
        }
      ]
    },
    {
      "cell_type": "code",
      "metadata": {
        "id": "Mi8qsgiKoQ76"
      },
      "source": [
        "class TimeForEpoch(Callback):\n",
        "    def on_train_begin(self, logs={}):\n",
        "        self.times=[]\n",
        "        \n",
        "    def on_epoch_begin(self, epoch, logs={}):\n",
        "        self.starttime = time.time()\n",
        "        \n",
        "    def on_epoch_end(self, epoch, logs={}):\n",
        "        self.times.append(time.time()-self.starttime)\n",
        "\n",
        "cb = TimeForEpoch()"
      ],
      "execution_count": null,
      "outputs": []
    },
    {
      "cell_type": "code",
      "metadata": {
        "id": "0PlLac99cbA5"
      },
      "source": [
        "history = model.fit(xtr3,ytr,epochs=2,batch_size=16,validation_data = (xval3,yval),shuffle=True,callbacks=[cb])"
      ],
      "execution_count": null,
      "outputs": []
    },
    {
      "cell_type": "code",
      "metadata": {
        "colab": {
          "base_uri": "https://localhost:8080/"
        },
        "id": "vsGdDsgpqhI4",
        "outputId": "57f58589-149c-490d-ed0b-624d98454517"
      },
      "source": [
        "def Average(lst):\n",
        "    return sum(lst) / len(lst)\n",
        "\n",
        "average_epoch_time = Average(cb.times)\n",
        "print(\"Average epoch time:\", average_epoch_time)"
      ],
      "execution_count": null,
      "outputs": [
        {
          "output_type": "stream",
          "name": "stdout",
          "text": [
            "Average epoch time: 3699.216743707657\n"
          ]
        }
      ]
    },
    {
      "cell_type": "code",
      "metadata": {
        "colab": {
          "base_uri": "https://localhost:8080/"
        },
        "id": "JZcGXAxOcpIG",
        "outputId": "ffde2923-2a4b-4690-bfa0-8482bb1e15b4"
      },
      "source": [
        "starttime = time.time()\n",
        "print(\"Test accuracy: \", np.round(model.evaluate(xte3,yte,verbose=0)[1]*100,3),\"%\")\n",
        "endtime = time.time() - starttime"
      ],
      "execution_count": 2,
      "outputs": [
        {
          "output_type": "stream",
          "name": "stdout",
          "text": [
            "Test accuracy: 86.058 %\n"
          ]
        }
      ]
    },
    {
      "cell_type": "code",
      "metadata": {
        "colab": {
          "base_uri": "https://localhost:8080/"
        },
        "id": "J0lv9TDzq_1z",
        "outputId": "6459203f-3869-4ebf-9309-7bae3d36398b"
      },
      "source": [
        "starttime = time.time()\n",
        "print(\"Validation accuracy: \", np.round(model.evaluate(xval3,yval,verbose=0)[1]*100,3),\"%\")\n",
        "endtime = time.time() - starttime"
      ],
      "execution_count": 3,
      "outputs": [
        {
          "output_type": "stream",
          "name": "stdout",
          "text": [
            "Validation accuracy: 87.394 %\n"
          ]
        }
      ]
    },
    {
      "cell_type": "code",
      "metadata": {
        "colab": {
          "base_uri": "https://localhost:8080/"
        },
        "id": "TOyzxDjJuEcA",
        "outputId": "d07c0866-e98c-4c99-a836-e8009216a99c"
      },
      "source": [
        "print(\"Average time per prediction:\", endtime/len(xte3))"
      ],
      "execution_count": null,
      "outputs": [
        {
          "output_type": "stream",
          "name": "stdout",
          "text": [
            "Average time per prediction: 0.004716730308532715\n"
          ]
        }
      ]
    },
    {
      "cell_type": "markdown",
      "metadata": {
        "id": "0QGE25r7oLCB"
      },
      "source": [
        "## Tuning number of hidden neurons"
      ]
    },
    {
      "cell_type": "markdown",
      "metadata": {
        "id": "yacArFplr0PN"
      },
      "source": [
        "### 100 neurons in Dense layer"
      ]
    },
    {
      "cell_type": "code",
      "metadata": {
        "id": "TojBge9noOM8"
      },
      "source": [
        "def make_model(neurons):\n",
        "  embedding_vecor_length = 768\n",
        "  max_review_length = 400\n",
        "  NUM_WORDS = 30522\n",
        "\n",
        "  tf.keras.backend.clear_session()\n",
        "  model = Sequential()\n",
        "  model.add(Embedding(NUM_WORDS, embedding_vecor_length, input_length=max_review_length))\n",
        "  model.add(Conv1D(filters=100, kernel_size=3, padding='same', activation='relu'))\n",
        "  model.add(MaxPooling1D())\n",
        "  model.add(GRU(neurons, return_sequences=True))\n",
        "  # model.add(GRU(50))\n",
        "  model.add(Dropout(0.5))\n",
        "  model.add(Dense(100,activation='relu'))\n",
        "  model.add(Flatten())\n",
        "  model.add(Dense(1, activation='sigmoid'))\n",
        "  return model"
      ],
      "execution_count": 5,
      "outputs": []
    },
    {
      "cell_type": "code",
      "metadata": {
        "colab": {
          "base_uri": "https://localhost:8080/"
        },
        "id": "KrMpAXmWoOKw",
        "outputId": "4fc60935-3d91-47ea-8423-8e9bf00d8741"
      },
      "source": [
        "model_100_neurons = make_model(100)\n",
        "model_100_neurons.compile(optimizer='adam', loss='binary_crossentropy', metrics='accuracy')\n",
        "model_100_neurons.summary()"
      ],
      "execution_count": 6,
      "outputs": [
        {
          "output_type": "stream",
          "name": "stdout",
          "text": [
            "Model: \"sequential\"\n",
            "_________________________________________________________________\n",
            " Layer (type)                Output Shape              Param #   \n",
            "=================================================================\n",
            " embedding (Embedding)       (None, 400, 768)          23440896  \n",
            "                                                                 \n",
            " conv1d (Conv1D)             (None, 400, 100)          230500    \n",
            "                                                                 \n",
            " max_pooling1d (MaxPooling1D  (None, 200, 100)         0         \n",
            " )                                                               \n",
            "                                                                 \n",
            " gru (GRU)                   (None, 200, 100)          60600     \n",
            "                                                                 \n",
            " dropout (Dropout)           (None, 200, 100)          0         \n",
            "                                                                 \n",
            " dense (Dense)               (None, 200, 100)          10100     \n",
            "                                                                 \n",
            " flatten (Flatten)           (None, 20000)             0         \n",
            "                                                                 \n",
            " dense_1 (Dense)             (None, 1)                 20001     \n",
            "                                                                 \n",
            "=================================================================\n",
            "Total params: 23,762,097\n",
            "Trainable params: 23,762,097\n",
            "Non-trainable params: 0\n",
            "_________________________________________________________________\n"
          ]
        }
      ]
    },
    {
      "cell_type": "code",
      "metadata": {
        "id": "LaDmqf5joOIh"
      },
      "source": [
        "history = model_100_neurons.fit(xtr3,ytr,epochs=2,batch_size=16,validation_data = (xval3,yval),shuffle=True,callbacks=[cb])"
      ],
      "execution_count": null,
      "outputs": []
    },
    {
      "cell_type": "code",
      "metadata": {
        "colab": {
          "base_uri": "https://localhost:8080/"
        },
        "id": "zcW4Q9E_sIxQ",
        "outputId": "11132722-1b82-4832-8f2a-e2cd086f7c36"
      },
      "source": [
        "average_epoch_time = Average(cb.times)\n",
        "print(\"Average epoch time:\", average_epoch_time)"
      ],
      "execution_count": 7,
      "outputs": [
        {
          "output_type": "stream",
          "name": "stdout",
          "text": [
            "Average epoch time: 3856.3702076673508\n"
          ]
        }
      ]
    },
    {
      "cell_type": "code",
      "metadata": {
        "colab": {
          "base_uri": "https://localhost:8080/"
        },
        "id": "UTlu3zXcsIxR",
        "outputId": "dd266fd3-535b-4b47-961c-62a2b49c401b"
      },
      "source": [
        "starttime = time.time()\n",
        "print(\"Test accuracy: \", np.round(model_100_neurons.evaluate(xte3,yte,verbose=0)[1]*100,3),\"%\")\n",
        "endtime = time.time() - starttime"
      ],
      "execution_count": 8,
      "outputs": [
        {
          "output_type": "stream",
          "name": "stdout",
          "text": [
            "Test accuracy: 86.867 %\n"
          ]
        }
      ]
    },
    {
      "cell_type": "code",
      "metadata": {
        "colab": {
          "base_uri": "https://localhost:8080/"
        },
        "id": "bFhKBV79sIxR",
        "outputId": "714417d0-bde4-440f-f073-5841880b931f"
      },
      "source": [
        "starttime = time.time()\n",
        "print(\"Validation accuracy: \", np.round(model_100_neurons.evaluate(xval3,yval,verbose=0)[1]*100,3),\"%\")\n",
        "endtime = time.time() - starttime"
      ],
      "execution_count": 9,
      "outputs": [
        {
          "output_type": "stream",
          "name": "stdout",
          "text": [
            "Validation accuracy: 87.345 %\n"
          ]
        }
      ]
    },
    {
      "cell_type": "code",
      "metadata": {
        "colab": {
          "base_uri": "https://localhost:8080/"
        },
        "id": "d6p0H_L2sIxR",
        "outputId": "60971a53-9129-4adc-883e-f358fd6d14ab"
      },
      "source": [
        "print(\"Average time per prediction:\", endtime/len(xte3))"
      ],
      "execution_count": null,
      "outputs": [
        {
          "output_type": "stream",
          "name": "stdout",
          "text": [
            "Average time per prediction: 0.001367732071876526\n"
          ]
        }
      ]
    },
    {
      "cell_type": "markdown",
      "metadata": {
        "id": "1gNkaRtSy8TR"
      },
      "source": [
        "### 200 neurons in Dense layer"
      ]
    },
    {
      "cell_type": "code",
      "metadata": {
        "colab": {
          "base_uri": "https://localhost:8080/"
        },
        "id": "RfBur30Zy8TS",
        "outputId": "0da96c35-ba12-4de7-ad77-faeae37df99b"
      },
      "source": [
        "model_200_neurons = make_model(200)\n",
        "model_200_neurons.compile(optimizer='adam', loss='binary_crossentropy',metrics='accuracy')\n",
        "model_200_neurons.summary()"
      ],
      "execution_count": 10,
      "outputs": [
        {
          "output_type": "stream",
          "name": "stdout",
          "text": [
            "Model: \"sequential\"\n",
            "_________________________________________________________________\n",
            " Layer (type)                Output Shape              Param #   \n",
            "=================================================================\n",
            " embedding (Embedding)       (None, 400, 768)          23440896  \n",
            "                                                                 \n",
            " conv1d (Conv1D)             (None, 400, 100)          230500    \n",
            "                                                                 \n",
            " max_pooling1d (MaxPooling1D  (None, 200, 100)         0         \n",
            " )                                                               \n",
            "                                                                 \n",
            " gru (GRU)                   (None, 200, 200)          181200    \n",
            "                                                                 \n",
            " dropout (Dropout)           (None, 200, 200)          0         \n",
            "                                                                 \n",
            " dense (Dense)               (None, 200, 100)          20100     \n",
            "                                                                 \n",
            " flatten (Flatten)           (None, 20000)             0         \n",
            "                                                                 \n",
            " dense_1 (Dense)             (None, 1)                 20001     \n",
            "                                                                 \n",
            "=================================================================\n",
            "Total params: 23,892,697\n",
            "Trainable params: 23,892,697\n",
            "Non-trainable params: 0\n",
            "_________________________________________________________________\n"
          ]
        }
      ]
    },
    {
      "cell_type": "code",
      "metadata": {
        "id": "qTF2nL9wy8TS"
      },
      "source": [
        "history = model_200_neurons.fit(xtr3,ytr,epochs=2,batch_size=16,validation_data = (xval3,yval),shuffle=True,callbacks=[cb])"
      ],
      "execution_count": null,
      "outputs": []
    },
    {
      "cell_type": "code",
      "metadata": {
        "colab": {
          "base_uri": "https://localhost:8080/"
        },
        "id": "31HvDioFy8TS",
        "outputId": "ba9bec84-dc79-46b7-fe26-b4501dc8c33f"
      },
      "source": [
        "average_epoch_time = Average(cb.times)\n",
        "print(\"Average epoch time:\", average_epoch_time)"
      ],
      "execution_count": 11,
      "outputs": [
        {
          "output_type": "stream",
          "name": "stdout",
          "text": [
            "Average epoch time: 3975.7478427886963\n"
          ]
        }
      ]
    },
    {
      "cell_type": "code",
      "metadata": {
        "colab": {
          "base_uri": "https://localhost:8080/"
        },
        "id": "IkdbOVnJy8TS",
        "outputId": "c0236540-e601-4da6-acaf-5d55033964b5"
      },
      "source": [
        "starttime = time.time()\n",
        "print(\"Test accuracy: \", np.round(model_200_neurons.evaluate(xte3,yte,verbose=0)[1]*100,3),\"%\")\n",
        "endtime = time.time() - starttime"
      ],
      "execution_count": 12,
      "outputs": [
        {
          "output_type": "stream",
          "name": "stdout",
          "text": [
            "Test accuracy: 85.176 %\n"
          ]
        }
      ]
    },
    {
      "cell_type": "code",
      "metadata": {
        "colab": {
          "base_uri": "https://localhost:8080/"
        },
        "id": "29oahRRpy8TS",
        "outputId": "bf4238ce-516b-44ed-c7af-c5e339f061cc"
      },
      "source": [
        "starttime = time.time()\n",
        "print(\"Validation accuracy: \", np.round(model_200_neurons.evaluate(xval3,yval,verbose=0)[1]*100,3),\"%\")\n",
        "endtime = time.time() - starttime"
      ],
      "execution_count": 13,
      "outputs": [
        {
          "output_type": "stream",
          "name": "stdout",
          "text": [
            "Validation accuracy: 84.972 %\n"
          ]
        }
      ]
    },
    {
      "cell_type": "code",
      "metadata": {
        "colab": {
          "base_uri": "https://localhost:8080/"
        },
        "id": "l5ont3-yy8TS",
        "outputId": "fa7a7faa-5f7c-47e9-9f52-51dd4fe59190"
      },
      "source": [
        "print(\"Average time per prediction:\", endtime/len(xte3))"
      ],
      "execution_count": null,
      "outputs": [
        {
          "output_type": "stream",
          "name": "stdout",
          "text": [
            "Average time per prediction: 0.002366953635215759\n"
          ]
        }
      ]
    },
    {
      "cell_type": "markdown",
      "metadata": {
        "id": "E5cvUr6V4tEB"
      },
      "source": [
        "## Tuning number of layers"
      ]
    },
    {
      "cell_type": "markdown",
      "metadata": {
        "id": "Oc6LlHVd44jZ"
      },
      "source": [
        "### 2 hidden layers"
      ]
    },
    {
      "cell_type": "code",
      "metadata": {
        "id": "n_dDhS2341Ek"
      },
      "source": [
        "def make_layer_model(layer):\n",
        "  embedding_vecor_length = 768\n",
        "  max_review_length = 400\n",
        "  NUM_WORDS = 30522\n",
        "\n",
        "  tf.keras.backend.clear_session()\n",
        "  model = Sequential()\n",
        "  model.add(Embedding(NUM_WORDS, embedding_vecor_length, input_length=max_review_length))\n",
        "  model.add(Conv1D(filters=100, kernel_size=3, padding='same', activation='relu'))\n",
        "  model.add(MaxPooling1D())\n",
        "  model.add(GRU(100, return_sequences=True))\n",
        "  for i in range(layer):\n",
        "    model.add(GRU(50))\n",
        "  model.add(Dropout(0.5))\n",
        "  # for i in range(layer):\n",
        "  model.add(Dense(100,activation='relu'))\n",
        "  model.add(Flatten())\n",
        "  model.add(Dense(1, activation='sigmoid'))\n",
        "  return model"
      ],
      "execution_count": 14,
      "outputs": []
    },
    {
      "cell_type": "code",
      "metadata": {
        "colab": {
          "base_uri": "https://localhost:8080/"
        },
        "id": "dvraiRaY41El",
        "outputId": "b93a9e3e-b4eb-45eb-c22c-ded2a91184d4"
      },
      "source": [
        "model_2_layers = make_layer_model(1)\n",
        "model_2_layers.compile(optimizer='adam', loss='binary_crossentropy',metrics='accuracy')\n",
        "model_2_layers.summary()"
      ],
      "execution_count": 15,
      "outputs": [
        {
          "output_type": "stream",
          "name": "stdout",
          "text": [
            "Model: \"sequential\"\n",
            "_________________________________________________________________\n",
            " Layer (type)                Output Shape              Param #   \n",
            "=================================================================\n",
            " embedding (Embedding)       (None, 400, 768)          23440896  \n",
            "                                                                 \n",
            " conv1d (Conv1D)             (None, 400, 100)          230500    \n",
            "                                                                 \n",
            " max_pooling1d (MaxPooling1D  (None, 200, 100)         0         \n",
            " )                                                               \n",
            "                                                                 \n",
            " gru (GRU)                   (None, 200, 100)          60600     \n",
            "                                                                 \n",
            " gru_1 (GRU)                 (None, 50)                22800     \n",
            "                                                                 \n",
            " dropout (Dropout)           (None, 50)                0         \n",
            "                                                                 \n",
            " dense (Dense)               (None, 100)               5100      \n",
            "                                                                 \n",
            " flatten (Flatten)           (None, 100)               0         \n",
            "                                                                 \n",
            " dense_1 (Dense)             (None, 1)                 101       \n",
            "                                                                 \n",
            "=================================================================\n",
            "Total params: 23,759,997\n",
            "Trainable params: 23,759,997\n",
            "Non-trainable params: 0\n",
            "_________________________________________________________________\n"
          ]
        }
      ]
    },
    {
      "cell_type": "code",
      "metadata": {
        "id": "QJ1F4Dw741El"
      },
      "source": [
        "history = model_2_layers.fit(xtr3,ytr,epochs=2,batch_size=16,validation_data = (xval3,yval),shuffle=True,callbacks=[cb])"
      ],
      "execution_count": null,
      "outputs": []
    },
    {
      "cell_type": "code",
      "metadata": {
        "colab": {
          "base_uri": "https://localhost:8080/"
        },
        "id": "gESZiI3j41El",
        "outputId": "cbd84c3d-212b-4b61-db0e-a6350a9d37d6"
      },
      "source": [
        "average_epoch_time = Average(cb.times)\n",
        "print(\"Average epoch time:\", average_epoch_time)"
      ],
      "execution_count": 16,
      "outputs": [
        {
          "output_type": "stream",
          "name": "stdout",
          "text": [
            "Average epoch time: 3794.742085456848\n"
          ]
        }
      ]
    },
    {
      "cell_type": "code",
      "metadata": {
        "colab": {
          "base_uri": "https://localhost:8080/"
        },
        "id": "IRpRubA_41El",
        "outputId": "db793a23-8d72-428c-d377-f99f9061a203"
      },
      "source": [
        "starttime = time.time()\n",
        "print(\"Test accuracy: \", np.round(model_2_layers.evaluate(xte3,yte,verbose=0)[1]*100,3),\"%\")\n",
        "endtime = time.time() - starttime"
      ],
      "execution_count": 17,
      "outputs": [
        {
          "output_type": "stream",
          "name": "stdout",
          "text": [
            "Test accuracy: 86.121 %\n"
          ]
        }
      ]
    },
    {
      "cell_type": "code",
      "metadata": {
        "colab": {
          "base_uri": "https://localhost:8080/"
        },
        "id": "rOSt6OmL41El",
        "outputId": "05d59dc6-13a6-49cf-fb8a-b57f76c553ee"
      },
      "source": [
        "starttime = time.time()\n",
        "print(\"Validation accuracy: \", np.round(model_2_layers.evaluate(xval3,yval,verbose=0)[1]*100,3),\"%\")\n",
        "endtime = time.time() - starttime"
      ],
      "execution_count": 18,
      "outputs": [
        {
          "output_type": "stream",
          "name": "stdout",
          "text": [
            "Validation accuracy: 86.604 %\n"
          ]
        }
      ]
    },
    {
      "cell_type": "code",
      "metadata": {
        "colab": {
          "base_uri": "https://localhost:8080/"
        },
        "id": "qh-wSJUB41El",
        "outputId": "fa994bc4-e75f-4593-fdde-e63148f4f025"
      },
      "source": [
        "print(\"Average time per prediction:\", endtime/len(xte3))"
      ],
      "execution_count": null,
      "outputs": [
        {
          "output_type": "stream",
          "name": "stdout",
          "text": [
            "Average time per prediction: 0.0013858426809310912\n"
          ]
        }
      ]
    },
    {
      "cell_type": "markdown",
      "metadata": {
        "id": "jg7Ct6Yr0Krh"
      },
      "source": [
        "## Keras LSTM with attention"
      ]
    },
    {
      "cell_type": "code",
      "metadata": {
        "id": "XUdkrJxxSjfc"
      },
      "source": [
        "# Add attention layer to the deep learning network\n",
        "class attention(Layer):\n",
        "    def __init__(self,**kwargs):\n",
        "        super(attention,self).__init__(**kwargs)\n",
        " \n",
        "    def build(self,input_shape):\n",
        "        self.W=self.add_weight(name='attention_weight', shape=(input_shape[-1],1), \n",
        "                               initializer='random_normal', trainable=True)\n",
        "        self.b=self.add_weight(name='attention_bias', shape=(input_shape[1],1), \n",
        "                               initializer='zeros', trainable=True)        \n",
        "        super(attention, self).build(input_shape)\n",
        " \n",
        "    def call(self,x):\n",
        "        # Alignment scores. Pass them through tanh function\n",
        "        e = K.tanh(K.dot(x,self.W)+self.b)\n",
        "        # Remove dimension of size 1\n",
        "        e = K.squeeze(e, axis=-1)   \n",
        "        # Compute the weights\n",
        "        alpha = K.softmax(e)\n",
        "        # Reshape to tensorFlow format\n",
        "        alpha = K.expand_dims(alpha, axis=-1)\n",
        "        # Compute the context vector\n",
        "        context = x * alpha\n",
        "        context = K.sum(context, axis=1)\n",
        "        return context"
      ],
      "execution_count": 19,
      "outputs": []
    },
    {
      "cell_type": "code",
      "metadata": {
        "id": "j03mUy8CSjc0",
        "colab": {
          "base_uri": "https://localhost:8080/"
        },
        "outputId": "0f0ad35a-40e4-43f5-b942-0754991f0754"
      },
      "source": [
        "def myAct(out):\n",
        "    return K.softmax(K.tanh(out))\n",
        "\n",
        "embedding_vecor_length = 768\n",
        "max_review_length = 400\n",
        "NUM_WORDS = 30522\n",
        "\n",
        "tf.keras.backend.clear_session()\n",
        "model = Sequential()\n",
        "model.add(Embedding(NUM_WORDS, embedding_vecor_length, input_length=max_review_length))\n",
        "model.add(Conv1D(filters=100, kernel_size=3, padding='same', activation='relu'))\n",
        "model.add(MaxPooling1D())\n",
        "model.add(GRU(50, return_sequences=False, activation=myAct))\n",
        "# model.add(GRU(50))\n",
        "model.add(Dropout(0.5))\n",
        "model.add(Dense(100,activation='relu'))\n",
        "\n",
        "# model.add(attention())\n",
        "model.add(Flatten())\n",
        "model.add(Dense(1, activation='sigmoid'))"
      ],
      "execution_count": 20,
      "outputs": [
        {
          "output_type": "stream",
          "name": "stdout",
          "text": [
            "WARNING:tensorflow:Layer gru will not use cuDNN kernels since it doesn't meet the criteria. It will use a generic GPU kernel as fallback when running on GPU.\n"
          ]
        }
      ]
    },
    {
      "cell_type": "code",
      "metadata": {
        "colab": {
          "base_uri": "https://localhost:8080/"
        },
        "id": "WadpfXtP0UtL",
        "outputId": "5654cf4b-9ba9-4b4c-e552-7c1e34a68ca4"
      },
      "source": [
        "model.compile(optimizer='adam', loss='binary_crossentropy',metrics='accuracy')\n",
        "model.summary()"
      ],
      "execution_count": 21,
      "outputs": [
        {
          "output_type": "stream",
          "name": "stdout",
          "text": [
            "Model: \"sequential\"\n",
            "_________________________________________________________________\n",
            " Layer (type)                Output Shape              Param #   \n",
            "=================================================================\n",
            " embedding (Embedding)       (None, 400, 768)          23440896  \n",
            "                                                                 \n",
            " conv1d (Conv1D)             (None, 400, 100)          230500    \n",
            "                                                                 \n",
            " max_pooling1d (MaxPooling1D  (None, 200, 100)         0         \n",
            " )                                                               \n",
            "                                                                 \n",
            " gru (GRU)                   (None, 50)                22800     \n",
            "                                                                 \n",
            " dropout (Dropout)           (None, 50)                0         \n",
            "                                                                 \n",
            " dense (Dense)               (None, 100)               5100      \n",
            "                                                                 \n",
            " flatten (Flatten)           (None, 100)               0         \n",
            "                                                                 \n",
            " dense_1 (Dense)             (None, 1)                 101       \n",
            "                                                                 \n",
            "=================================================================\n",
            "Total params: 23,699,397\n",
            "Trainable params: 23,699,397\n",
            "Non-trainable params: 0\n",
            "_________________________________________________________________\n"
          ]
        }
      ]
    },
    {
      "cell_type": "code",
      "metadata": {
        "id": "gsnm0kyl0UrF"
      },
      "source": [
        "class TimeForEpoch(Callback):\n",
        "    def on_train_begin(self, logs={}):\n",
        "        self.times=[]\n",
        "        \n",
        "    def on_epoch_begin(self, epoch, logs={}):\n",
        "        self.starttime = time.time()\n",
        "        \n",
        "    def on_epoch_end(self, epoch, logs={}):\n",
        "        self.times.append(time.time()-self.starttime)\n",
        "\n",
        "cb = TimeForEpoch()"
      ],
      "execution_count": 19,
      "outputs": []
    },
    {
      "cell_type": "code",
      "metadata": {
        "id": "gnXve43dyESp"
      },
      "source": [
        "history = model.fit(xtr3,ytr,epochs=2,batch_size=16,validation_data = (xval3,yval),shuffle=True,callbacks=[cb])"
      ],
      "execution_count": 1,
      "outputs": []
    },
    {
      "cell_type": "code",
      "metadata": {
        "colab": {
          "base_uri": "https://localhost:8080/"
        },
        "id": "d9Sel1Jk5_Ib",
        "outputId": "a3fdb9fd-efc7-484f-e9e9-9ba2a2c789d1"
      },
      "source": [
        "def Average(lst):\n",
        "    return sum(lst) / len(lst)\n",
        "\n",
        "average_epoch_time = Average(cb.times)\n",
        "print(\"Average epoch time:\", average_epoch_time)"
      ],
      "execution_count": 22,
      "outputs": [
        {
          "output_type": "stream",
          "name": "stdout",
          "text": [
            "Average epoch time: 3422.4526838064194\n"
          ]
        }
      ]
    },
    {
      "cell_type": "code",
      "metadata": {
        "colab": {
          "base_uri": "https://localhost:8080/"
        },
        "id": "srdcOn5u5_Gr",
        "outputId": "0df98d56-bb6a-40c3-fbe8-f95b50458802"
      },
      "source": [
        "starttime = time.time()\n",
        "print(\"Accuracy: \", np.round(model.evaluate(xte3,yte,verbose=0)[1]*100,3),\"%\")\n",
        "endtime = time.time() - starttime"
      ],
      "execution_count": 23,
      "outputs": [
        {
          "output_type": "stream",
          "name": "stdout",
          "text": [
            "Accuracy: 87.212 %\n"
          ]
        }
      ]
    },
    {
      "cell_type": "code",
      "metadata": {
        "colab": {
          "base_uri": "https://localhost:8080/"
        },
        "id": "iTRodcOwXFQr",
        "outputId": "87c1f063-7637-4469-b3b6-9004dae1096e"
      },
      "source": [
        "starttime = time.time()\n",
        "print(\"Validation accuracy: \", np.round(model.evaluate(xval3,yval,verbose=0)[1]*100,3),\"%\")\n",
        "endtime = time.time() - starttime"
      ],
      "execution_count": 24,
      "outputs": [
        {
          "output_type": "stream",
          "name": "stdout",
          "text": [
            "Validation accuracy: 87.722 %\n"
          ]
        }
      ]
    },
    {
      "cell_type": "code",
      "metadata": {
        "colab": {
          "base_uri": "https://localhost:8080/"
        },
        "id": "k9fl9Qk95_EW",
        "outputId": "bfdc13d0-4ea4-408c-d0b2-f61abd4c165f"
      },
      "source": [
        "print(\"Average time per prediction:\", endtime/len(xte3))"
      ],
      "execution_count": null,
      "outputs": [
        {
          "output_type": "stream",
          "name": "stdout",
          "text": [
            "Average time per prediction: 0.001035772466659546\n"
          ]
        }
      ]
    }
  ]
}